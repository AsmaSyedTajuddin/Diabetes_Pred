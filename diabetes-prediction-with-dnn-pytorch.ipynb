{
 "cells": [
  {
   "cell_type": "markdown",
   "id": "3ea6f3d8",
   "metadata": {
    "papermill": {
     "duration": 0.023933,
     "end_time": "2021-11-16T09:01:45.196042",
     "exception": false,
     "start_time": "2021-11-16T09:01:45.172109",
     "status": "completed"
    },
    "tags": []
   },
   "source": [
    "Let's predict Diabetes using ```'diabetes_binary_5050split_health_indicators_BRFSS2015.csv'``` file.**"
   ]
  },
  {
   "cell_type": "code",
   "execution_count": 1,
   "id": "bf49ce29",
   "metadata": {
    "_cell_guid": "b1076dfc-b9ad-4769-8c92-a6c4dae69d19",
    "_uuid": "8f2839f25d086af736a60e9eeb907d3b93b6e0e5",
    "execution": {
     "iopub.execute_input": "2021-11-16T09:01:45.247957Z",
     "iopub.status.busy": "2021-11-16T09:01:45.246286Z",
     "iopub.status.idle": "2021-11-16T09:01:47.306234Z",
     "shell.execute_reply": "2021-11-16T09:01:47.306656Z",
     "shell.execute_reply.started": "2021-11-16T08:15:28.370132Z"
    },
    "papermill": {
     "duration": 2.08762,
     "end_time": "2021-11-16T09:01:47.306953",
     "exception": false,
     "start_time": "2021-11-16T09:01:45.219333",
     "status": "completed"
    },
    "tags": []
   },
   "outputs": [],
   "source": [
    "import numpy as np \n",
    "import pandas as pd\n",
    "\n",
    "import torch\n",
    "import torch.nn as nn\n",
    "\n",
    "from sklearn.model_selection import train_test_split\n",
    "from sklearn.preprocessing import MinMaxScaler\n",
    "import matplotlib.pyplot as plt"
   ]
  },
  {
   "cell_type": "code",
   "execution_count": 2,
   "id": "3eec74d5",
   "metadata": {
    "execution": {
     "iopub.execute_input": "2021-11-16T09:01:47.356383Z",
     "iopub.status.busy": "2021-11-16T09:01:47.355700Z",
     "iopub.status.idle": "2021-11-16T09:01:47.403128Z",
     "shell.execute_reply": "2021-11-16T09:01:47.402387Z",
     "shell.execute_reply.started": "2021-11-16T08:15:30.482887Z"
    },
    "papermill": {
     "duration": 0.073656,
     "end_time": "2021-11-16T09:01:47.403259",
     "exception": false,
     "start_time": "2021-11-16T09:01:47.329603",
     "status": "completed"
    },
    "tags": []
   },
   "outputs": [],
   "source": [
    "# Set random seed and Use 'cuda' GPU\n",
    "\n",
    "torch.manual_seed(0)\n",
    "\n",
    "if torch.cuda.is_available():\n",
    "    device = 'cuda'\n",
    "    torch.cuda.manual_seed_all(0)\n",
    "    \n",
    "else:\n",
    "    device = 'cpu'"
   ]
  },
  {
   "cell_type": "code",
   "execution_count": 3,
   "id": "c3ad8a4a",
   "metadata": {
    "execution": {
     "iopub.execute_input": "2021-11-16T09:01:47.451006Z",
     "iopub.status.busy": "2021-11-16T09:01:47.450457Z",
     "iopub.status.idle": "2021-11-16T09:01:47.657403Z",
     "shell.execute_reply": "2021-11-16T09:01:47.656444Z",
     "shell.execute_reply.started": "2021-11-16T08:15:30.538973Z"
    },
    "papermill": {
     "duration": 0.232243,
     "end_time": "2021-11-16T09:01:47.657551",
     "exception": false,
     "start_time": "2021-11-16T09:01:47.425308",
     "status": "completed"
    },
    "tags": []
   },
   "outputs": [],
   "source": [
    "# Get Total Dataset\n",
    "df_train = pd.read_csv('../input/diabetes-health-indicators-dataset/diabetes_binary_5050split_health_indicators_BRFSS2015.csv')"
   ]
  },
  {
   "cell_type": "code",
   "execution_count": 4,
   "id": "e9520e39",
   "metadata": {
    "execution": {
     "iopub.execute_input": "2021-11-16T09:01:47.708342Z",
     "iopub.status.busy": "2021-11-16T09:01:47.707658Z",
     "iopub.status.idle": "2021-11-16T09:01:47.710746Z",
     "shell.execute_reply": "2021-11-16T09:01:47.711174Z",
     "shell.execute_reply.started": "2021-11-16T08:15:30.813580Z"
    },
    "papermill": {
     "duration": 0.031382,
     "end_time": "2021-11-16T09:01:47.711301",
     "exception": false,
     "start_time": "2021-11-16T09:01:47.679919",
     "status": "completed"
    },
    "tags": []
   },
   "outputs": [
    {
     "data": {
      "text/plain": [
       "(70692, 22)"
      ]
     },
     "execution_count": 4,
     "metadata": {},
     "output_type": "execute_result"
    }
   ],
   "source": [
    "df_train.shape"
   ]
  },
  {
   "cell_type": "code",
   "execution_count": 5,
   "id": "7b1ad796",
   "metadata": {
    "execution": {
     "iopub.execute_input": "2021-11-16T09:01:47.763278Z",
     "iopub.status.busy": "2021-11-16T09:01:47.762684Z",
     "iopub.status.idle": "2021-11-16T09:01:47.791117Z",
     "shell.execute_reply": "2021-11-16T09:01:47.790648Z",
     "shell.execute_reply.started": "2021-11-16T08:15:30.824162Z"
    },
    "papermill": {
     "duration": 0.057619,
     "end_time": "2021-11-16T09:01:47.791226",
     "exception": false,
     "start_time": "2021-11-16T09:01:47.733607",
     "status": "completed"
    },
    "tags": []
   },
   "outputs": [
    {
     "data": {
      "text/html": [
       "<div>\n",
       "<style scoped>\n",
       "    .dataframe tbody tr th:only-of-type {\n",
       "        vertical-align: middle;\n",
       "    }\n",
       "\n",
       "    .dataframe tbody tr th {\n",
       "        vertical-align: top;\n",
       "    }\n",
       "\n",
       "    .dataframe thead th {\n",
       "        text-align: right;\n",
       "    }\n",
       "</style>\n",
       "<table border=\"1\" class=\"dataframe\">\n",
       "  <thead>\n",
       "    <tr style=\"text-align: right;\">\n",
       "      <th></th>\n",
       "      <th>Diabetes_binary</th>\n",
       "      <th>HighBP</th>\n",
       "      <th>HighChol</th>\n",
       "      <th>CholCheck</th>\n",
       "      <th>BMI</th>\n",
       "      <th>Smoker</th>\n",
       "      <th>Stroke</th>\n",
       "      <th>HeartDiseaseorAttack</th>\n",
       "      <th>PhysActivity</th>\n",
       "      <th>Fruits</th>\n",
       "      <th>...</th>\n",
       "      <th>AnyHealthcare</th>\n",
       "      <th>NoDocbcCost</th>\n",
       "      <th>GenHlth</th>\n",
       "      <th>MentHlth</th>\n",
       "      <th>PhysHlth</th>\n",
       "      <th>DiffWalk</th>\n",
       "      <th>Sex</th>\n",
       "      <th>Age</th>\n",
       "      <th>Education</th>\n",
       "      <th>Income</th>\n",
       "    </tr>\n",
       "  </thead>\n",
       "  <tbody>\n",
       "    <tr>\n",
       "      <th>0</th>\n",
       "      <td>0.0</td>\n",
       "      <td>1.0</td>\n",
       "      <td>0.0</td>\n",
       "      <td>1.0</td>\n",
       "      <td>26.0</td>\n",
       "      <td>0.0</td>\n",
       "      <td>0.0</td>\n",
       "      <td>0.0</td>\n",
       "      <td>1.0</td>\n",
       "      <td>0.0</td>\n",
       "      <td>...</td>\n",
       "      <td>1.0</td>\n",
       "      <td>0.0</td>\n",
       "      <td>3.0</td>\n",
       "      <td>5.0</td>\n",
       "      <td>30.0</td>\n",
       "      <td>0.0</td>\n",
       "      <td>1.0</td>\n",
       "      <td>4.0</td>\n",
       "      <td>6.0</td>\n",
       "      <td>8.0</td>\n",
       "    </tr>\n",
       "    <tr>\n",
       "      <th>1</th>\n",
       "      <td>0.0</td>\n",
       "      <td>1.0</td>\n",
       "      <td>1.0</td>\n",
       "      <td>1.0</td>\n",
       "      <td>26.0</td>\n",
       "      <td>1.0</td>\n",
       "      <td>1.0</td>\n",
       "      <td>0.0</td>\n",
       "      <td>0.0</td>\n",
       "      <td>1.0</td>\n",
       "      <td>...</td>\n",
       "      <td>1.0</td>\n",
       "      <td>0.0</td>\n",
       "      <td>3.0</td>\n",
       "      <td>0.0</td>\n",
       "      <td>0.0</td>\n",
       "      <td>0.0</td>\n",
       "      <td>1.0</td>\n",
       "      <td>12.0</td>\n",
       "      <td>6.0</td>\n",
       "      <td>8.0</td>\n",
       "    </tr>\n",
       "    <tr>\n",
       "      <th>2</th>\n",
       "      <td>0.0</td>\n",
       "      <td>0.0</td>\n",
       "      <td>0.0</td>\n",
       "      <td>1.0</td>\n",
       "      <td>26.0</td>\n",
       "      <td>0.0</td>\n",
       "      <td>0.0</td>\n",
       "      <td>0.0</td>\n",
       "      <td>1.0</td>\n",
       "      <td>1.0</td>\n",
       "      <td>...</td>\n",
       "      <td>1.0</td>\n",
       "      <td>0.0</td>\n",
       "      <td>1.0</td>\n",
       "      <td>0.0</td>\n",
       "      <td>10.0</td>\n",
       "      <td>0.0</td>\n",
       "      <td>1.0</td>\n",
       "      <td>13.0</td>\n",
       "      <td>6.0</td>\n",
       "      <td>8.0</td>\n",
       "    </tr>\n",
       "    <tr>\n",
       "      <th>3</th>\n",
       "      <td>0.0</td>\n",
       "      <td>1.0</td>\n",
       "      <td>1.0</td>\n",
       "      <td>1.0</td>\n",
       "      <td>28.0</td>\n",
       "      <td>1.0</td>\n",
       "      <td>0.0</td>\n",
       "      <td>0.0</td>\n",
       "      <td>1.0</td>\n",
       "      <td>1.0</td>\n",
       "      <td>...</td>\n",
       "      <td>1.0</td>\n",
       "      <td>0.0</td>\n",
       "      <td>3.0</td>\n",
       "      <td>0.0</td>\n",
       "      <td>3.0</td>\n",
       "      <td>0.0</td>\n",
       "      <td>1.0</td>\n",
       "      <td>11.0</td>\n",
       "      <td>6.0</td>\n",
       "      <td>8.0</td>\n",
       "    </tr>\n",
       "    <tr>\n",
       "      <th>4</th>\n",
       "      <td>0.0</td>\n",
       "      <td>0.0</td>\n",
       "      <td>0.0</td>\n",
       "      <td>1.0</td>\n",
       "      <td>29.0</td>\n",
       "      <td>1.0</td>\n",
       "      <td>0.0</td>\n",
       "      <td>0.0</td>\n",
       "      <td>1.0</td>\n",
       "      <td>1.0</td>\n",
       "      <td>...</td>\n",
       "      <td>1.0</td>\n",
       "      <td>0.0</td>\n",
       "      <td>2.0</td>\n",
       "      <td>0.0</td>\n",
       "      <td>0.0</td>\n",
       "      <td>0.0</td>\n",
       "      <td>0.0</td>\n",
       "      <td>8.0</td>\n",
       "      <td>5.0</td>\n",
       "      <td>8.0</td>\n",
       "    </tr>\n",
       "  </tbody>\n",
       "</table>\n",
       "<p>5 rows × 22 columns</p>\n",
       "</div>"
      ],
      "text/plain": [
       "   Diabetes_binary  HighBP  HighChol  CholCheck   BMI  Smoker  Stroke  \\\n",
       "0              0.0     1.0       0.0        1.0  26.0     0.0     0.0   \n",
       "1              0.0     1.0       1.0        1.0  26.0     1.0     1.0   \n",
       "2              0.0     0.0       0.0        1.0  26.0     0.0     0.0   \n",
       "3              0.0     1.0       1.0        1.0  28.0     1.0     0.0   \n",
       "4              0.0     0.0       0.0        1.0  29.0     1.0     0.0   \n",
       "\n",
       "   HeartDiseaseorAttack  PhysActivity  Fruits  ...  AnyHealthcare  \\\n",
       "0                   0.0           1.0     0.0  ...            1.0   \n",
       "1                   0.0           0.0     1.0  ...            1.0   \n",
       "2                   0.0           1.0     1.0  ...            1.0   \n",
       "3                   0.0           1.0     1.0  ...            1.0   \n",
       "4                   0.0           1.0     1.0  ...            1.0   \n",
       "\n",
       "   NoDocbcCost  GenHlth  MentHlth  PhysHlth  DiffWalk  Sex   Age  Education  \\\n",
       "0          0.0      3.0       5.0      30.0       0.0  1.0   4.0        6.0   \n",
       "1          0.0      3.0       0.0       0.0       0.0  1.0  12.0        6.0   \n",
       "2          0.0      1.0       0.0      10.0       0.0  1.0  13.0        6.0   \n",
       "3          0.0      3.0       0.0       3.0       0.0  1.0  11.0        6.0   \n",
       "4          0.0      2.0       0.0       0.0       0.0  0.0   8.0        5.0   \n",
       "\n",
       "   Income  \n",
       "0     8.0  \n",
       "1     8.0  \n",
       "2     8.0  \n",
       "3     8.0  \n",
       "4     8.0  \n",
       "\n",
       "[5 rows x 22 columns]"
      ]
     },
     "execution_count": 5,
     "metadata": {},
     "output_type": "execute_result"
    }
   ],
   "source": [
    "df_train.head()"
   ]
  },
  {
   "cell_type": "code",
   "execution_count": 6,
   "id": "dee6314a",
   "metadata": {
    "execution": {
     "iopub.execute_input": "2021-11-16T09:01:47.848186Z",
     "iopub.status.busy": "2021-11-16T09:01:47.847282Z",
     "iopub.status.idle": "2021-11-16T09:01:47.850431Z",
     "shell.execute_reply": "2021-11-16T09:01:47.850852Z",
     "shell.execute_reply.started": "2021-11-16T08:15:30.863445Z"
    },
    "papermill": {
     "duration": 0.036833,
     "end_time": "2021-11-16T09:01:47.850972",
     "exception": false,
     "start_time": "2021-11-16T09:01:47.814139",
     "status": "completed"
    },
    "tags": []
   },
   "outputs": [
    {
     "data": {
      "text/plain": [
       "0.0    35346\n",
       "1.0    35346\n",
       "Name: Diabetes_binary, dtype: int64"
      ]
     },
     "execution_count": 6,
     "metadata": {},
     "output_type": "execute_result"
    }
   ],
   "source": [
    "df_train['Diabetes_binary'].value_counts()"
   ]
  },
  {
   "cell_type": "code",
   "execution_count": 7,
   "id": "b85c3b19",
   "metadata": {
    "execution": {
     "iopub.execute_input": "2021-11-16T09:01:47.917207Z",
     "iopub.status.busy": "2021-11-16T09:01:47.916335Z",
     "iopub.status.idle": "2021-11-16T09:01:47.947658Z",
     "shell.execute_reply": "2021-11-16T09:01:47.948790Z",
     "shell.execute_reply.started": "2021-11-16T08:15:30.878681Z"
    },
    "papermill": {
     "duration": 0.074033,
     "end_time": "2021-11-16T09:01:47.949005",
     "exception": false,
     "start_time": "2021-11-16T09:01:47.874972",
     "status": "completed"
    },
    "tags": []
   },
   "outputs": [
    {
     "name": "stdout",
     "output_type": "stream",
     "text": [
      "<class 'pandas.core.frame.DataFrame'>\n",
      "RangeIndex: 70692 entries, 0 to 70691\n",
      "Data columns (total 22 columns):\n",
      " #   Column                Non-Null Count  Dtype  \n",
      "---  ------                --------------  -----  \n",
      " 0   Diabetes_binary       70692 non-null  float64\n",
      " 1   HighBP                70692 non-null  float64\n",
      " 2   HighChol              70692 non-null  float64\n",
      " 3   CholCheck             70692 non-null  float64\n",
      " 4   BMI                   70692 non-null  float64\n",
      " 5   Smoker                70692 non-null  float64\n",
      " 6   Stroke                70692 non-null  float64\n",
      " 7   HeartDiseaseorAttack  70692 non-null  float64\n",
      " 8   PhysActivity          70692 non-null  float64\n",
      " 9   Fruits                70692 non-null  float64\n",
      " 10  Veggies               70692 non-null  float64\n",
      " 11  HvyAlcoholConsump     70692 non-null  float64\n",
      " 12  AnyHealthcare         70692 non-null  float64\n",
      " 13  NoDocbcCost           70692 non-null  float64\n",
      " 14  GenHlth               70692 non-null  float64\n",
      " 15  MentHlth              70692 non-null  float64\n",
      " 16  PhysHlth              70692 non-null  float64\n",
      " 17  DiffWalk              70692 non-null  float64\n",
      " 18  Sex                   70692 non-null  float64\n",
      " 19  Age                   70692 non-null  float64\n",
      " 20  Education             70692 non-null  float64\n",
      " 21  Income                70692 non-null  float64\n",
      "dtypes: float64(22)\n",
      "memory usage: 11.9 MB\n"
     ]
    }
   ],
   "source": [
    "df_train.info()"
   ]
  },
  {
   "cell_type": "markdown",
   "id": "309d4141",
   "metadata": {
    "papermill": {
     "duration": 0.044368,
     "end_time": "2021-11-16T09:01:48.027587",
     "exception": false,
     "start_time": "2021-11-16T09:01:47.983219",
     "status": "completed"
    },
    "tags": []
   },
   "source": [
    "As I can see with ```df_train.head()``` and ```df_train.info()```, it would be better to convert the values into **int**."
   ]
  },
  {
   "cell_type": "code",
   "execution_count": 8,
   "id": "f2eb5340",
   "metadata": {
    "execution": {
     "iopub.execute_input": "2021-11-16T09:01:48.117375Z",
     "iopub.status.busy": "2021-11-16T09:01:48.116273Z",
     "iopub.status.idle": "2021-11-16T09:01:48.124721Z",
     "shell.execute_reply": "2021-11-16T09:01:48.125557Z",
     "shell.execute_reply.started": "2021-11-16T08:15:30.903922Z"
    },
    "papermill": {
     "duration": 0.053251,
     "end_time": "2021-11-16T09:01:48.125747",
     "exception": false,
     "start_time": "2021-11-16T09:01:48.072496",
     "status": "completed"
    },
    "tags": []
   },
   "outputs": [],
   "source": [
    "df_train = df_train.astype(int)"
   ]
  },
  {
   "cell_type": "markdown",
   "id": "28a32cf9",
   "metadata": {
    "papermill": {
     "duration": 0.037418,
     "end_time": "2021-11-16T09:01:48.201273",
     "exception": false,
     "start_time": "2021-11-16T09:01:48.163855",
     "status": "completed"
    },
    "tags": []
   },
   "source": [
    "# Data Preparation"
   ]
  },
  {
   "cell_type": "markdown",
   "id": "12dc8241",
   "metadata": {
    "papermill": {
     "duration": 0.037097,
     "end_time": "2021-11-16T09:01:48.275921",
     "exception": false,
     "start_time": "2021-11-16T09:01:48.238824",
     "status": "completed"
    },
    "tags": []
   },
   "source": [
    "## Dataset Split\n",
    "\n",
    "Train set + Validation set + Test set"
   ]
  },
  {
   "cell_type": "code",
   "execution_count": 9,
   "id": "d5333682",
   "metadata": {
    "execution": {
     "iopub.execute_input": "2021-11-16T09:01:48.357751Z",
     "iopub.status.busy": "2021-11-16T09:01:48.356818Z",
     "iopub.status.idle": "2021-11-16T09:01:48.364522Z",
     "shell.execute_reply": "2021-11-16T09:01:48.365194Z",
     "shell.execute_reply.started": "2021-11-16T08:38:34.030350Z"
    },
    "papermill": {
     "duration": 0.051551,
     "end_time": "2021-11-16T09:01:48.365380",
     "exception": false,
     "start_time": "2021-11-16T09:01:48.313829",
     "status": "completed"
    },
    "tags": []
   },
   "outputs": [],
   "source": [
    "# Dataset split\n",
    "X = df_train.drop('Diabetes_binary', axis=1)\n",
    "y = df_train['Diabetes_binary']"
   ]
  },
  {
   "cell_type": "code",
   "execution_count": 10,
   "id": "a67951da",
   "metadata": {
    "execution": {
     "iopub.execute_input": "2021-11-16T09:01:48.454869Z",
     "iopub.status.busy": "2021-11-16T09:01:48.454001Z",
     "iopub.status.idle": "2021-11-16T09:01:48.485178Z",
     "shell.execute_reply": "2021-11-16T09:01:48.484526Z",
     "shell.execute_reply.started": "2021-11-16T08:38:37.208222Z"
    },
    "papermill": {
     "duration": 0.082292,
     "end_time": "2021-11-16T09:01:48.485314",
     "exception": false,
     "start_time": "2021-11-16T09:01:48.403022",
     "status": "completed"
    },
    "tags": []
   },
   "outputs": [],
   "source": [
    "# Use 10 % of total data as Test set and the rest as (Train + Validation) set \n",
    "X_train_val, X_test, y_train_val, y_test = train_test_split(X, y, test_size=0.1)\n",
    "\n",
    "# Use 20 % of (Train + Validation) set as Validation set\n",
    "X_train, X_val, y_train, y_val = train_test_split(X_train_val, y_train_val, test_size=0.2)"
   ]
  },
  {
   "cell_type": "markdown",
   "id": "1d153524",
   "metadata": {
    "papermill": {
     "duration": 0.02404,
     "end_time": "2021-11-16T09:01:48.532838",
     "exception": false,
     "start_time": "2021-11-16T09:01:48.508798",
     "status": "completed"
    },
    "tags": []
   },
   "source": [
    "## Scaling"
   ]
  },
  {
   "cell_type": "code",
   "execution_count": 11,
   "id": "6b7c2ddd",
   "metadata": {
    "execution": {
     "iopub.execute_input": "2021-11-16T09:01:48.585842Z",
     "iopub.status.busy": "2021-11-16T09:01:48.584797Z",
     "iopub.status.idle": "2021-11-16T09:01:48.601028Z",
     "shell.execute_reply": "2021-11-16T09:01:48.600569Z",
     "shell.execute_reply.started": "2021-11-16T08:38:38.879973Z"
    },
    "papermill": {
     "duration": 0.04497,
     "end_time": "2021-11-16T09:01:48.601148",
     "exception": false,
     "start_time": "2021-11-16T09:01:48.556178",
     "status": "completed"
    },
    "tags": []
   },
   "outputs": [],
   "source": [
    "scaler = MinMaxScaler()\n",
    "X_train = scaler.fit_transform(X_train)\n",
    "X_val = scaler.transform(X_val)"
   ]
  },
  {
   "cell_type": "markdown",
   "id": "881a7609",
   "metadata": {
    "papermill": {
     "duration": 0.024265,
     "end_time": "2021-11-16T09:01:48.648838",
     "exception": false,
     "start_time": "2021-11-16T09:01:48.624573",
     "status": "completed"
    },
    "tags": []
   },
   "source": [
    "## Convert into Tensor"
   ]
  },
  {
   "cell_type": "code",
   "execution_count": 12,
   "id": "0d606753",
   "metadata": {
    "execution": {
     "iopub.execute_input": "2021-11-16T09:01:48.701839Z",
     "iopub.status.busy": "2021-11-16T09:01:48.701196Z",
     "iopub.status.idle": "2021-11-16T09:01:51.607883Z",
     "shell.execute_reply": "2021-11-16T09:01:51.607303Z",
     "shell.execute_reply.started": "2021-11-16T08:38:39.839638Z"
    },
    "papermill": {
     "duration": 2.935836,
     "end_time": "2021-11-16T09:01:51.608027",
     "exception": false,
     "start_time": "2021-11-16T09:01:48.672191",
     "status": "completed"
    },
    "tags": []
   },
   "outputs": [],
   "source": [
    "X_train = torch.FloatTensor(X_train).to(device)\n",
    "X_val = torch.FloatTensor(X_val).to(device)\n",
    "\n",
    "y_train = torch.LongTensor(y_train.values).to(device)\n",
    "y_val = torch.LongTensor(y_val.values).to(device)"
   ]
  },
  {
   "cell_type": "markdown",
   "id": "2286d128",
   "metadata": {
    "papermill": {
     "duration": 0.023181,
     "end_time": "2021-11-16T09:01:51.655112",
     "exception": false,
     "start_time": "2021-11-16T09:01:51.631931",
     "status": "completed"
    },
    "tags": []
   },
   "source": [
    "# Model"
   ]
  },
  {
   "cell_type": "code",
   "execution_count": 13,
   "id": "92f7da7c",
   "metadata": {
    "execution": {
     "iopub.execute_input": "2021-11-16T09:01:51.708010Z",
     "iopub.status.busy": "2021-11-16T09:01:51.707139Z",
     "iopub.status.idle": "2021-11-16T09:01:51.709023Z",
     "shell.execute_reply": "2021-11-16T09:01:51.709466Z",
     "shell.execute_reply.started": "2021-11-16T08:38:40.727866Z"
    },
    "papermill": {
     "duration": 0.029926,
     "end_time": "2021-11-16T09:01:51.709588",
     "exception": false,
     "start_time": "2021-11-16T09:01:51.679662",
     "status": "completed"
    },
    "tags": []
   },
   "outputs": [],
   "source": [
    "# Hyperparameter\n",
    "learning_rate = 1e-1\n",
    "n_epochs = 500\n",
    "drop_prob = 0.3"
   ]
  },
  {
   "cell_type": "code",
   "execution_count": 14,
   "id": "c98318f9",
   "metadata": {
    "execution": {
     "iopub.execute_input": "2021-11-16T09:01:51.760965Z",
     "iopub.status.busy": "2021-11-16T09:01:51.760291Z",
     "iopub.status.idle": "2021-11-16T09:01:51.763223Z",
     "shell.execute_reply": "2021-11-16T09:01:51.763636Z",
     "shell.execute_reply.started": "2021-11-16T08:38:41.094297Z"
    },
    "papermill": {
     "duration": 0.030645,
     "end_time": "2021-11-16T09:01:51.763754",
     "exception": false,
     "start_time": "2021-11-16T09:01:51.733109",
     "status": "completed"
    },
    "tags": []
   },
   "outputs": [
    {
     "data": {
      "text/plain": [
       "torch.Size([50897, 21])"
      ]
     },
     "execution_count": 14,
     "metadata": {},
     "output_type": "execute_result"
    }
   ],
   "source": [
    "X_train.shape"
   ]
  },
  {
   "cell_type": "code",
   "execution_count": 15,
   "id": "66811ac0",
   "metadata": {
    "execution": {
     "iopub.execute_input": "2021-11-16T09:01:51.821781Z",
     "iopub.status.busy": "2021-11-16T09:01:51.820914Z",
     "iopub.status.idle": "2021-11-16T09:01:51.823425Z",
     "shell.execute_reply": "2021-11-16T09:01:51.822991Z",
     "shell.execute_reply.started": "2021-11-16T08:38:41.479871Z"
    },
    "papermill": {
     "duration": 0.035547,
     "end_time": "2021-11-16T09:01:51.823528",
     "exception": false,
     "start_time": "2021-11-16T09:01:51.787981",
     "status": "completed"
    },
    "tags": []
   },
   "outputs": [],
   "source": [
    "# Model\n",
    "class Net(nn.Module):\n",
    "    def __init__(self):\n",
    "        super(Net, self).__init__()\n",
    "        \n",
    "        self.fc1 = nn.Linear(21, 512)\n",
    "        self.fc2 = nn.Linear(512, 256)\n",
    "        self.fc3 = nn.Linear(256, 256)\n",
    "        self.fc4 = nn.Linear(256, 64)\n",
    "        self.fc5 = nn.Linear(64, 2)\n",
    "        \n",
    "        self.relu = nn.ReLU()\n",
    "        self.dropout = nn.Dropout(p=drop_prob)\n",
    "        \n",
    "        for m in self.modules():\n",
    "            if isinstance(m, nn.Linear):\n",
    "                nn.init.xavier_uniform_(m.weight.data)\n",
    "                \n",
    "    def forward(self, x):\n",
    "        out = self.fc1(x)\n",
    "        out = self.relu(out)\n",
    "        out = self.dropout(out)\n",
    "        \n",
    "        out = self.fc2(out)\n",
    "        out = self.relu(out)\n",
    "        out = self.dropout(out)\n",
    "        \n",
    "        out = self.fc3(out)\n",
    "        out = self.relu(out)\n",
    "        out = self.dropout(out)\n",
    "        \n",
    "        out = self.fc4(out)\n",
    "        out = self.relu(out)\n",
    "        out = self.dropout(out)\n",
    "        \n",
    "        out = self.fc5(out)\n",
    "        return out"
   ]
  },
  {
   "cell_type": "code",
   "execution_count": 16,
   "id": "b75fafe5",
   "metadata": {
    "execution": {
     "iopub.execute_input": "2021-11-16T09:01:51.874515Z",
     "iopub.status.busy": "2021-11-16T09:01:51.873657Z",
     "iopub.status.idle": "2021-11-16T09:01:51.901392Z",
     "shell.execute_reply": "2021-11-16T09:01:51.901799Z",
     "shell.execute_reply.started": "2021-11-16T08:38:41.935723Z"
    },
    "papermill": {
     "duration": 0.054643,
     "end_time": "2021-11-16T09:01:51.901933",
     "exception": false,
     "start_time": "2021-11-16T09:01:51.847290",
     "status": "completed"
    },
    "tags": []
   },
   "outputs": [],
   "source": [
    "model = Net().to(device)\n",
    "\n",
    "# Optimizer and Loss function\n",
    "optimizer = torch.optim.SGD(model.parameters(), lr=learning_rate, momentum=0.9)\n",
    "loss_fn = nn.CrossEntropyLoss()"
   ]
  },
  {
   "cell_type": "markdown",
   "id": "765dd9df",
   "metadata": {
    "papermill": {
     "duration": 0.023638,
     "end_time": "2021-11-16T09:01:51.949527",
     "exception": false,
     "start_time": "2021-11-16T09:01:51.925889",
     "status": "completed"
    },
    "tags": []
   },
   "source": [
    "# Train\n",
    "\n",
    "Train with Validation"
   ]
  },
  {
   "cell_type": "code",
   "execution_count": 17,
   "id": "1afae9f2",
   "metadata": {
    "execution": {
     "iopub.execute_input": "2021-11-16T09:01:52.006944Z",
     "iopub.status.busy": "2021-11-16T09:01:52.006288Z",
     "iopub.status.idle": "2021-11-16T09:02:03.627414Z",
     "shell.execute_reply": "2021-11-16T09:02:03.626618Z",
     "shell.execute_reply.started": "2021-11-16T08:38:42.827822Z"
    },
    "papermill": {
     "duration": 11.653917,
     "end_time": "2021-11-16T09:02:03.627546",
     "exception": false,
     "start_time": "2021-11-16T09:01:51.973629",
     "status": "completed"
    },
    "tags": []
   },
   "outputs": [
    {
     "name": "stdout",
     "output_type": "stream",
     "text": [
      "Epoch   50 / 500, Cost : 0.5486, Acc : 72.54 %, Val Cost : 0.5315, Val Acc : 73.86 %\n",
      "Epoch  100 / 500, Cost : 0.5317, Acc : 73.61 %, Val Cost : 0.5152, Val Acc : 74.29 %\n",
      "Epoch  150 / 500, Cost : 0.5227, Acc : 74.15 %, Val Cost : 0.5093, Val Acc : 74.72 %\n",
      "Epoch  200 / 500, Cost : 0.5195, Acc : 74.44 %, Val Cost : 0.5052, Val Acc : 75.36 %\n",
      "Epoch  250 / 500, Cost : 0.5156, Acc : 74.69 %, Val Cost : 0.5026, Val Acc : 75.66 %\n",
      "Epoch  300 / 500, Cost : 0.5126, Acc : 74.84 %, Val Cost : 0.5009, Val Acc : 75.62 %\n",
      "Epoch  350 / 500, Cost : 0.5103, Acc : 75.18 %, Val Cost : 0.4999, Val Acc : 75.76 %\n",
      "Epoch  400 / 500, Cost : 0.5092, Acc : 75.07 %, Val Cost : 0.4992, Val Acc : 75.78 %\n",
      "Epoch  450 / 500, Cost : 0.5077, Acc : 75.28 %, Val Cost : 0.4990, Val Acc : 75.76 %\n",
      "Epoch  500 / 500, Cost : 0.5078, Acc : 75.33 %, Val Cost : 0.4989, Val Acc : 75.72 %\n"
     ]
    }
   ],
   "source": [
    "train_loss = list()\n",
    "val_loss = list()\n",
    "\n",
    "for epoch in range(1, n_epochs+1):\n",
    "    model.train()\n",
    "    H = model(X_train)\n",
    "    loss = loss_fn(H, y_train)\n",
    "    \n",
    "    train_loss.append(loss.item())\n",
    "    \n",
    "    optimizer.zero_grad()\n",
    "    loss.backward()\n",
    "    optimizer.step()\n",
    "    \n",
    "    acc = (torch.argmax(H, dim=1) == y_train).float().mean().item()\n",
    "    \n",
    "    model.eval()\n",
    "    with torch.no_grad():\n",
    "        H_val = model(X_val)\n",
    "        loss_val = loss_fn(H_val, y_val)\n",
    "        acc_val = (torch.argmax(H_val, dim=1) == y_val).float().mean().item()\n",
    "        \n",
    "        val_loss.append(loss_val.item())\n",
    "        \n",
    "    if epoch % 50 == 0:\n",
    "        print('Epoch {:4d} / {}, Cost : {:.4f}, Acc : {:.2f} %, Val Cost : {:.4f}, Val Acc : {:.2f} %'.format(\n",
    "            epoch, n_epochs, loss.item(), acc*100, loss_val.item(), acc_val*100))"
   ]
  },
  {
   "cell_type": "markdown",
   "id": "d220eaa6",
   "metadata": {
    "execution": {
     "iopub.execute_input": "2021-11-16T08:29:44.047381Z",
     "iopub.status.busy": "2021-11-16T08:29:44.046552Z",
     "iopub.status.idle": "2021-11-16T08:29:44.051101Z",
     "shell.execute_reply": "2021-11-16T08:29:44.050258Z",
     "shell.execute_reply.started": "2021-11-16T08:29:44.047305Z"
    },
    "papermill": {
     "duration": 0.02609,
     "end_time": "2021-11-16T09:02:03.680217",
     "exception": false,
     "start_time": "2021-11-16T09:02:03.654127",
     "status": "completed"
    },
    "tags": []
   },
   "source": [
    "Let's visualize the Train loss and Validadtion loss."
   ]
  },
  {
   "cell_type": "code",
   "execution_count": 18,
   "id": "3a5c13a9",
   "metadata": {
    "execution": {
     "iopub.execute_input": "2021-11-16T09:02:03.751106Z",
     "iopub.status.busy": "2021-11-16T09:02:03.736955Z",
     "iopub.status.idle": "2021-11-16T09:02:03.959388Z",
     "shell.execute_reply": "2021-11-16T09:02:03.958872Z",
     "shell.execute_reply.started": "2021-11-16T08:39:51.370734Z"
    },
    "papermill": {
     "duration": 0.252818,
     "end_time": "2021-11-16T09:02:03.959523",
     "exception": false,
     "start_time": "2021-11-16T09:02:03.706705",
     "status": "completed"
    },
    "tags": []
   },
   "outputs": [
    {
     "data": {
      "image/png": "[encoded data removed]",
      "text/plain": [
       "<Figure size 864x432 with 1 Axes>"
      ]
     },
     "metadata": {
      "needs_background": "light"
     },
     "output_type": "display_data"
    }
   ],
   "source": [
    "plt.figure(figsize=(12, 6))\n",
    "plt.plot(train_loss, label='Train')\n",
    "plt.plot(val_loss, label='Validation')\n",
    "\n",
    "plt.xlabel('Epoch')\n",
    "plt.ylabel('Loss')\n",
    "plt.legend()\n",
    "plt.show()"
   ]
  },
  {
   "cell_type": "markdown",
   "id": "1574ddb0",
   "metadata": {
    "papermill": {
     "duration": 0.027147,
     "end_time": "2021-11-16T09:02:04.013900",
     "exception": false,
     "start_time": "2021-11-16T09:02:03.986753",
     "status": "completed"
    },
    "tags": []
   },
   "source": [
    "Validation loss is lower than Train loss because of 'Dropout' layer."
   ]
  },
  {
   "cell_type": "markdown",
   "id": "676e174a",
   "metadata": {
    "papermill": {
     "duration": 0.026901,
     "end_time": "2021-11-16T09:02:04.068155",
     "exception": false,
     "start_time": "2021-11-16T09:02:04.041254",
     "status": "completed"
    },
    "tags": []
   },
   "source": [
    "# Predict Test set"
   ]
  },
  {
   "cell_type": "markdown",
   "id": "0f55abf0",
   "metadata": {
    "papermill": {
     "duration": 0.027733,
     "end_time": "2021-11-16T09:02:04.123817",
     "exception": false,
     "start_time": "2021-11-16T09:02:04.096084",
     "status": "completed"
    },
    "tags": []
   },
   "source": [
    "Use the whole train set(Train + Validation above)."
   ]
  },
  {
   "cell_type": "code",
   "execution_count": 19,
   "id": "642485bc",
   "metadata": {
    "execution": {
     "iopub.execute_input": "2021-11-16T09:02:04.233044Z",
     "iopub.status.busy": "2021-11-16T09:02:04.231953Z",
     "iopub.status.idle": "2021-11-16T09:02:04.248193Z",
     "shell.execute_reply": "2021-11-16T09:02:04.248649Z",
     "shell.execute_reply.started": "2021-11-16T08:44:21.623826Z"
    },
    "papermill": {
     "duration": 0.052104,
     "end_time": "2021-11-16T09:02:04.248821",
     "exception": false,
     "start_time": "2021-11-16T09:02:04.196717",
     "status": "completed"
    },
    "tags": []
   },
   "outputs": [],
   "source": [
    "# Scaling\n",
    "scaler = MinMaxScaler()\n",
    "\n",
    "X_train_val = scaler.fit_transform(X_train_val)\n",
    "X_test = scaler.transform(X_test)"
   ]
  },
  {
   "cell_type": "code",
   "execution_count": 20,
   "id": "bc14134d",
   "metadata": {
    "execution": {
     "iopub.execute_input": "2021-11-16T09:02:04.310028Z",
     "iopub.status.busy": "2021-11-16T09:02:04.308917Z",
     "iopub.status.idle": "2021-11-16T09:02:04.318637Z",
     "shell.execute_reply": "2021-11-16T09:02:04.317962Z",
     "shell.execute_reply.started": "2021-11-16T08:44:22.236954Z"
    },
    "papermill": {
     "duration": 0.042439,
     "end_time": "2021-11-16T09:02:04.318765",
     "exception": false,
     "start_time": "2021-11-16T09:02:04.276326",
     "status": "completed"
    },
    "tags": []
   },
   "outputs": [],
   "source": [
    "# To Tensor\n",
    "X_train_val = torch.FloatTensor(X_train_val).to(device)\n",
    "X_test = torch.FloatTensor(X_test).to(device)\n",
    "\n",
    "y_train_val = torch.LongTensor(y_train_val.values).to(device)\n",
    "y_test = torch.LongTensor(y_test.values).to(device)"
   ]
  },
  {
   "cell_type": "code",
   "execution_count": 21,
   "id": "ba087952",
   "metadata": {
    "execution": {
     "iopub.execute_input": "2021-11-16T09:02:04.380262Z",
     "iopub.status.busy": "2021-11-16T09:02:04.378672Z",
     "iopub.status.idle": "2021-11-16T09:02:04.387548Z",
     "shell.execute_reply": "2021-11-16T09:02:04.387080Z",
     "shell.execute_reply.started": "2021-11-16T08:44:37.103952Z"
    },
    "papermill": {
     "duration": 0.039926,
     "end_time": "2021-11-16T09:02:04.387657",
     "exception": false,
     "start_time": "2021-11-16T09:02:04.347731",
     "status": "completed"
    },
    "tags": []
   },
   "outputs": [],
   "source": [
    "model = Net().to(device)\n",
    "\n",
    "# Optimizer and Loss function\n",
    "optimizer = torch.optim.SGD(model.parameters(), lr=learning_rate, momentum=0.9)\n",
    "\n",
    "loss_fn = nn.CrossEntropyLoss()"
   ]
  },
  {
   "cell_type": "code",
   "execution_count": 22,
   "id": "1ae2fc48",
   "metadata": {
    "execution": {
     "iopub.execute_input": "2021-11-16T09:02:04.448629Z",
     "iopub.status.busy": "2021-11-16T09:02:04.447845Z",
     "iopub.status.idle": "2021-11-16T09:02:14.101590Z",
     "shell.execute_reply": "2021-11-16T09:02:14.102631Z",
     "shell.execute_reply.started": "2021-11-16T08:45:08.261815Z"
    },
    "papermill": {
     "duration": 9.68772,
     "end_time": "2021-11-16T09:02:14.102856",
     "exception": false,
     "start_time": "2021-11-16T09:02:04.415136",
     "status": "completed"
    },
    "tags": []
   },
   "outputs": [
    {
     "name": "stdout",
     "output_type": "stream",
     "text": [
      "Epoch   50 / 500, Cost : 0.5444, Acc : 72.88 %\n",
      "Epoch  100 / 500, Cost : 0.5284, Acc : 73.75 %\n",
      "Epoch  150 / 500, Cost : 0.5227, Acc : 74.19 %\n",
      "Epoch  200 / 500, Cost : 0.5185, Acc : 74.49 %\n",
      "Epoch  250 / 500, Cost : 0.5139, Acc : 74.87 %\n",
      "Epoch  300 / 500, Cost : 0.5124, Acc : 74.86 %\n",
      "Epoch  350 / 500, Cost : 0.5093, Acc : 75.08 %\n",
      "Epoch  400 / 500, Cost : 0.5077, Acc : 75.17 %\n",
      "Epoch  450 / 500, Cost : 0.5061, Acc : 75.30 %\n",
      "Epoch  500 / 500, Cost : 0.5059, Acc : 75.29 %\n"
     ]
    }
   ],
   "source": [
    "# Train\n",
    "for epoch in range(1, n_epochs+1):\n",
    "    model.train()\n",
    "    H = model(X_train)\n",
    "    loss = loss_fn(H, y_train)\n",
    "    \n",
    "    optimizer.zero_grad()\n",
    "    loss.backward()\n",
    "    optimizer.step()\n",
    "    \n",
    "    acc = (torch.argmax(H, dim=1) == y_train).float().mean().item()\n",
    "        \n",
    "    if epoch % 50 == 0:\n",
    "        print('Epoch {:4d} / {}, Cost : {:.4f}, Acc : {:.2f} %'.format(\n",
    "            epoch, n_epochs, loss.item(), acc*100))"
   ]
  },
  {
   "cell_type": "code",
   "execution_count": 23,
   "id": "d566265a",
   "metadata": {
    "execution": {
     "iopub.execute_input": "2021-11-16T09:02:14.209368Z",
     "iopub.status.busy": "2021-11-16T09:02:14.208503Z",
     "iopub.status.idle": "2021-11-16T09:02:14.210730Z",
     "shell.execute_reply": "2021-11-16T09:02:14.210092Z",
     "shell.execute_reply.started": "2021-11-16T08:46:01.686392Z"
    },
    "papermill": {
     "duration": 0.058058,
     "end_time": "2021-11-16T09:02:14.210891",
     "exception": false,
     "start_time": "2021-11-16T09:02:14.152833",
     "status": "completed"
    },
    "tags": []
   },
   "outputs": [],
   "source": [
    "# Predict Test set\n",
    "model.eval()\n",
    "with torch.no_grad():\n",
    "    pred = model(X_test)"
   ]
  },
  {
   "cell_type": "markdown",
   "id": "972ef985",
   "metadata": {
    "execution": {
     "iopub.execute_input": "2021-11-16T08:46:03.781530Z",
     "iopub.status.busy": "2021-11-16T08:46:03.780741Z",
     "iopub.status.idle": "2021-11-16T08:46:03.821276Z",
     "shell.execute_reply": "2021-11-16T08:46:03.820626Z",
     "shell.execute_reply.started": "2021-11-16T08:46:03.781482Z"
    },
    "papermill": {
     "duration": 0.043735,
     "end_time": "2021-11-16T09:02:14.303417",
     "exception": false,
     "start_time": "2021-11-16T09:02:14.259682",
     "status": "completed"
    },
    "tags": []
   },
   "source": [
    "Let's check Test loss and Test accuracy."
   ]
  },
  {
   "cell_type": "code",
   "execution_count": 24,
   "id": "89d98c5c",
   "metadata": {
    "execution": {
     "iopub.execute_input": "2021-11-16T09:02:14.368544Z",
     "iopub.status.busy": "2021-11-16T09:02:14.367727Z",
     "iopub.status.idle": "2021-11-16T09:02:14.372446Z",
     "shell.execute_reply": "2021-11-16T09:02:14.371982Z",
     "shell.execute_reply.started": "2021-11-16T08:48:14.686797Z"
    },
    "papermill": {
     "duration": 0.038872,
     "end_time": "2021-11-16T09:02:14.372561",
     "exception": false,
     "start_time": "2021-11-16T09:02:14.333689",
     "status": "completed"
    },
    "tags": []
   },
   "outputs": [
    {
     "name": "stdout",
     "output_type": "stream",
     "text": [
      "Test Loss : 0.5135\n",
      "Test Accuacy : 74.61 %\n"
     ]
    }
   ],
   "source": [
    "test_loss = loss_fn(pred, y_test)\n",
    "test_acc = (torch.argmax(pred, dim=1) == y_test).float().mean().item()\n",
    "\n",
    "print('Test Loss : {:.4f}'.format(test_loss))\n",
    "print('Test Accuacy : {:.2f} %'.format(test_acc*100))"
   ]
  },
  {
   "cell_type": "markdown",
   "id": "4e7c0f99",
   "metadata": {
    "papermill": {
     "duration": 0.030148,
     "end_time": "2021-11-16T09:02:14.432638",
     "exception": false,
     "start_time": "2021-11-16T09:02:14.402490",
     "status": "completed"
    },
    "tags": []
   },
   "source": [
    "### Please **Upvote** if you like my notebook!\n",
    "### Thank you!"
   ]
  }
 ],
 "metadata": {
  "kernelspec": {
   "display_name": "Python 3",
   "language": "python",
   "name": "python3"
  },
  "language_info": {
   "codemirror_mode": {
    "name": "ipython",
    "version": 3
   },
   "file_extension": ".py",
   "mimetype": "text/x-python",
   "name": "python",
   "nbconvert_exporter": "python",
   "pygments_lexer": "ipython3",
   "version": "3.7.10"
  },
  "papermill": {
   "default_parameters": {},
   "duration": 37.897144,
   "end_time": "2021-11-16T09:02:15.472338",
   "environment_variables": {},
   "exception": null,
   "input_path": "__notebook__.ipynb",
   "output_path": "__notebook__.ipynb",
   "parameters": {},
   "start_time": "2021-11-16T09:01:37.575194",
   "version": "2.3.3"
  }
 },
 "nbformat": 4,
 "nbformat_minor": 5
}
