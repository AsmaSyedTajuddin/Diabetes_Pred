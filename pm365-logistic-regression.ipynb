{
 "cells": [
  {
   "cell_type": "code",
   "execution_count": 1,
   "id": "e597d7b4",
   "metadata": {
    "_execution_state": "idle",
    "_uuid": "051d70d956493feee0c6d64651c6a088724dca2a",
    "execution": {
     "iopub.execute_input": "2021-10-06T19:55:54.076624Z",
     "iopub.status.busy": "2021-10-06T19:55:54.074369Z",
     "iopub.status.idle": "2021-10-06T19:55:54.223052Z",
     "shell.execute_reply": "2021-10-06T19:55:54.221795Z"
    },
    "papermill": {
     "duration": 0.16438,
     "end_time": "2021-10-06T19:55:54.223225",
     "exception": false,
     "start_time": "2021-10-06T19:55:54.058845",
     "status": "completed"
    },
    "tags": []
   },
   "outputs": [
    {
     "data": {
      "text/html": [
       "<table class=\"dataframe\">\n",
       "<caption>A data.frame: 6 × 10</caption>\n",
       "<thead>\n",
       "\t<tr><th></th><th scope=col>PAT_ID</th><th scope=col>PREGNANCIES</th><th scope=col>GLOCUSE</th><th scope=col>BP</th><th scope=col>SKINTHICKNESS</th><th scope=col>INSULIN</th><th scope=col>BMI</th><th scope=col>DPF</th><th scope=col>AGE</th><th scope=col>DIABET</th></tr>\n",
       "\t<tr><th></th><th scope=col>&lt;int&gt;</th><th scope=col>&lt;int&gt;</th><th scope=col>&lt;int&gt;</th><th scope=col>&lt;int&gt;</th><th scope=col>&lt;int&gt;</th><th scope=col>&lt;int&gt;</th><th scope=col>&lt;dbl&gt;</th><th scope=col>&lt;dbl&gt;</th><th scope=col>&lt;int&gt;</th><th scope=col>&lt;int&gt;</th></tr>\n",
       "</thead>\n",
       "<tbody>\n",
       "\t<tr><th scope=row>1</th><td>1</td><td>6</td><td>148</td><td>72</td><td>35</td><td>  0</td><td>33.6</td><td>0.627</td><td>50</td><td>1</td></tr>\n",
       "\t<tr><th scope=row>2</th><td>2</td><td>1</td><td> 85</td><td>66</td><td>29</td><td>  0</td><td>26.6</td><td>0.351</td><td>31</td><td>0</td></tr>\n",
       "\t<tr><th scope=row>3</th><td>3</td><td>8</td><td>183</td><td>64</td><td> 0</td><td>  0</td><td>23.3</td><td>0.672</td><td>32</td><td>1</td></tr>\n",
       "\t<tr><th scope=row>4</th><td>4</td><td>1</td><td> 89</td><td>66</td><td>23</td><td> 94</td><td>28.1</td><td>0.167</td><td>21</td><td>0</td></tr>\n",
       "\t<tr><th scope=row>5</th><td>5</td><td>0</td><td>137</td><td>40</td><td>35</td><td>168</td><td>43.1</td><td>2.288</td><td>33</td><td>1</td></tr>\n",
       "\t<tr><th scope=row>6</th><td>6</td><td>5</td><td>116</td><td>74</td><td> 0</td><td>  0</td><td>25.6</td><td>0.201</td><td>30</td><td>0</td></tr>\n",
       "</tbody>\n",
       "</table>\n"
      ],
      "text/latex": [
       "A data.frame: 6 × 10\n",
       "\\begin{tabular}{r|llllllllll}\n",
       "  & PAT\\_ID & PREGNANCIES & GLOCUSE & BP & SKINTHICKNESS & INSULIN & BMI & DPF & AGE & DIABET\\\\\n",
       "  & <int> & <int> & <int> & <int> & <int> & <int> & <dbl> & <dbl> & <int> & <int>\\\\\n",
       "\\hline\n",
       "\t1 & 1 & 6 & 148 & 72 & 35 &   0 & 33.6 & 0.627 & 50 & 1\\\\\n",
       "\t2 & 2 & 1 &  85 & 66 & 29 &   0 & 26.6 & 0.351 & 31 & 0\\\\\n",
       "\t3 & 3 & 8 & 183 & 64 &  0 &   0 & 23.3 & 0.672 & 32 & 1\\\\\n",
       "\t4 & 4 & 1 &  89 & 66 & 23 &  94 & 28.1 & 0.167 & 21 & 0\\\\\n",
       "\t5 & 5 & 0 & 137 & 40 & 35 & 168 & 43.1 & 2.288 & 33 & 1\\\\\n",
       "\t6 & 6 & 5 & 116 & 74 &  0 &   0 & 25.6 & 0.201 & 30 & 0\\\\\n",
       "\\end{tabular}\n"
      ],
      "text/markdown": [
       "\n",
       "A data.frame: 6 × 10\n",
       "\n",
       "| <!--/--> | PAT_ID &lt;int&gt; | PREGNANCIES &lt;int&gt; | GLOCUSE &lt;int&gt; | BP &lt;int&gt; | SKINTHICKNESS &lt;int&gt; | INSULIN &lt;int&gt; | BMI &lt;dbl&gt; | DPF &lt;dbl&gt; | AGE &lt;int&gt; | DIABET &lt;int&gt; |\n",
       "|---|---|---|---|---|---|---|---|---|---|---|\n",
       "| 1 | 1 | 6 | 148 | 72 | 35 |   0 | 33.6 | 0.627 | 50 | 1 |\n",
       "| 2 | 2 | 1 |  85 | 66 | 29 |   0 | 26.6 | 0.351 | 31 | 0 |\n",
       "| 3 | 3 | 8 | 183 | 64 |  0 |   0 | 23.3 | 0.672 | 32 | 1 |\n",
       "| 4 | 4 | 1 |  89 | 66 | 23 |  94 | 28.1 | 0.167 | 21 | 0 |\n",
       "| 5 | 5 | 0 | 137 | 40 | 35 | 168 | 43.1 | 2.288 | 33 | 1 |\n",
       "| 6 | 6 | 5 | 116 | 74 |  0 |   0 | 25.6 | 0.201 | 30 | 0 |\n",
       "\n"
      ],
      "text/plain": [
       "  PAT_ID PREGNANCIES GLOCUSE BP SKINTHICKNESS INSULIN BMI  DPF   AGE DIABET\n",
       "1 1      6           148     72 35              0     33.6 0.627 50  1     \n",
       "2 2      1            85     66 29              0     26.6 0.351 31  0     \n",
       "3 3      8           183     64  0              0     23.3 0.672 32  1     \n",
       "4 4      1            89     66 23             94     28.1 0.167 21  0     \n",
       "5 5      0           137     40 35            168     43.1 2.288 33  1     \n",
       "6 6      5           116     74  0              0     25.6 0.201 30  0     "
      ]
     },
     "metadata": {},
     "output_type": "display_data"
    }
   ],
   "source": [
    "df <- read.csv(\"../input/diabetes//DIAB.csv\",\n",
    "                 header = TRUE,\n",
    "                 quote = \"\\\"\",\n",
    "                 stringsAsFactors = TRUE,\n",
    "                 strip.white = TRUE)\n",
    "head(df)"
   ]
  },
  {
   "cell_type": "markdown",
   "id": "78647797",
   "metadata": {
    "papermill": {
     "duration": 0.010744,
     "end_time": "2021-10-06T19:55:54.245506",
     "exception": false,
     "start_time": "2021-10-06T19:55:54.234762",
     "status": "completed"
    },
    "tags": []
   },
   "source": [
    "# Explore the dataset"
   ]
  },
  {
   "cell_type": "code",
   "execution_count": 2,
   "id": "695467e0",
   "metadata": {
    "execution": {
     "iopub.execute_input": "2021-10-06T19:55:54.303225Z",
     "iopub.status.busy": "2021-10-06T19:55:54.270768Z",
     "iopub.status.idle": "2021-10-06T19:55:54.322321Z",
     "shell.execute_reply": "2021-10-06T19:55:54.321181Z"
    },
    "papermill": {
     "duration": 0.066312,
     "end_time": "2021-10-06T19:55:54.322457",
     "exception": false,
     "start_time": "2021-10-06T19:55:54.256145",
     "status": "completed"
    },
    "tags": []
   },
   "outputs": [
    {
     "data": {
      "text/plain": [
       "     PAT_ID       PREGNANCIES        GLOCUSE            BP        \n",
       " Min.   :  1.0   Min.   : 0.000   Min.   :  0.0   Min.   :  0.00  \n",
       " 1st Qu.:192.8   1st Qu.: 1.000   1st Qu.: 99.0   1st Qu.: 62.00  \n",
       " Median :384.5   Median : 3.000   Median :117.0   Median : 72.00  \n",
       " Mean   :384.5   Mean   : 3.845   Mean   :120.9   Mean   : 69.11  \n",
       " 3rd Qu.:576.2   3rd Qu.: 6.000   3rd Qu.:140.2   3rd Qu.: 80.00  \n",
       " Max.   :768.0   Max.   :17.000   Max.   :199.0   Max.   :122.00  \n",
       " SKINTHICKNESS      INSULIN           BMI             DPF        \n",
       " Min.   : 0.00   Min.   :  0.0   Min.   : 0.00   Min.   :0.0780  \n",
       " 1st Qu.: 0.00   1st Qu.:  0.0   1st Qu.:27.30   1st Qu.:0.2437  \n",
       " Median :23.00   Median : 30.5   Median :32.00   Median :0.3725  \n",
       " Mean   :20.54   Mean   : 79.8   Mean   :31.99   Mean   :0.4719  \n",
       " 3rd Qu.:32.00   3rd Qu.:127.2   3rd Qu.:36.60   3rd Qu.:0.6262  \n",
       " Max.   :99.00   Max.   :846.0   Max.   :67.10   Max.   :2.4200  \n",
       "      AGE            DIABET     \n",
       " Min.   :21.00   Min.   :0.000  \n",
       " 1st Qu.:24.00   1st Qu.:0.000  \n",
       " Median :29.00   Median :0.000  \n",
       " Mean   :33.24   Mean   :0.349  \n",
       " 3rd Qu.:41.00   3rd Qu.:1.000  \n",
       " Max.   :81.00   Max.   :1.000  "
      ]
     },
     "metadata": {},
     "output_type": "display_data"
    }
   ],
   "source": [
    "summary(df)"
   ]
  },
  {
   "cell_type": "code",
   "execution_count": 3,
   "id": "70d6c3f9",
   "metadata": {
    "execution": {
     "iopub.execute_input": "2021-10-06T19:55:54.348968Z",
     "iopub.status.busy": "2021-10-06T19:55:54.347643Z",
     "iopub.status.idle": "2021-10-06T19:55:54.367349Z",
     "shell.execute_reply": "2021-10-06T19:55:54.366008Z"
    },
    "papermill": {
     "duration": 0.034026,
     "end_time": "2021-10-06T19:55:54.367482",
     "exception": false,
     "start_time": "2021-10-06T19:55:54.333456",
     "status": "completed"
    },
    "tags": []
   },
   "outputs": [
    {
     "data": {
      "text/plain": [
       "      AGE\n",
       "DIABET 21 22 23 24 25 26 27 28 29 30 31 32 33 34 35 36 37 38 39 40 41 42 43 44\n",
       "     0 58 61 31 38 34 25 24 25 16 15 11  7  7 10  5  6 13  6  9  7  9 11  2  3\n",
       "     1  5 11  7  8 14  8  8 10 13  6 13  9 10  4  5 10  6 10  3  6 13  7 11  5\n",
       "      AGE\n",
       "DIABET 45 46 47 48 49 50 51 52 53 54 55 56 57 58 59 60 61 62 63 64 65 66 67 68\n",
       "     0  7  6  2  4  2  3  3  1  1  2  3  1  4  4  1  3  1  2  4  1  3  2  2  1\n",
       "     1  8  7  4  1  3  5  5  7  4  4  1  2  1  3  2  2  1  2  0  0  0  2  1  0\n",
       "      AGE\n",
       "DIABET 69 70 72 81\n",
       "     0  2  0  1  1\n",
       "     1  0  1  0  0"
      ]
     },
     "metadata": {},
     "output_type": "display_data"
    }
   ],
   "source": [
    "xtabs(~ DIABET +AGE, data=df)"
   ]
  },
  {
   "cell_type": "markdown",
   "id": "8d946819",
   "metadata": {
    "papermill": {
     "duration": 0.011238,
     "end_time": "2021-10-06T19:55:54.390073",
     "exception": false,
     "start_time": "2021-10-06T19:55:54.378835",
     "status": "completed"
    },
    "tags": []
   },
   "source": [
    "# What are the datatype?"
   ]
  },
  {
   "cell_type": "code",
   "execution_count": 4,
   "id": "2096a6a5",
   "metadata": {
    "execution": {
     "iopub.execute_input": "2021-10-06T19:55:54.419137Z",
     "iopub.status.busy": "2021-10-06T19:55:54.417264Z",
     "iopub.status.idle": "2021-10-06T19:55:54.447697Z",
     "shell.execute_reply": "2021-10-06T19:55:54.445832Z"
    },
    "papermill": {
     "duration": 0.046366,
     "end_time": "2021-10-06T19:55:54.447864",
     "exception": false,
     "start_time": "2021-10-06T19:55:54.401498",
     "status": "completed"
    },
    "tags": []
   },
   "outputs": [
    {
     "name": "stdout",
     "output_type": "stream",
     "text": [
      "'data.frame':\t768 obs. of  10 variables:\n",
      " $ PAT_ID       : int  1 2 3 4 5 6 7 8 9 10 ...\n",
      " $ PREGNANCIES  : int  6 1 8 1 0 5 3 10 2 8 ...\n",
      " $ GLOCUSE      : int  148 85 183 89 137 116 78 115 197 125 ...\n",
      " $ BP           : int  72 66 64 66 40 74 50 0 70 96 ...\n",
      " $ SKINTHICKNESS: int  35 29 0 23 35 0 32 0 45 0 ...\n",
      " $ INSULIN      : int  0 0 0 94 168 0 88 0 543 0 ...\n",
      " $ BMI          : num  33.6 26.6 23.3 28.1 43.1 25.6 31 35.3 30.5 0 ...\n",
      " $ DPF          : num  0.627 0.351 0.672 0.167 2.288 ...\n",
      " $ AGE          : int  50 31 32 21 33 30 26 29 53 54 ...\n",
      " $ DIABET       : int  1 0 1 0 1 0 1 0 1 1 ...\n"
     ]
    }
   ],
   "source": [
    "# What are the datatypes\n",
    "str(df)"
   ]
  },
  {
   "cell_type": "markdown",
   "id": "6679c463",
   "metadata": {
    "papermill": {
     "duration": 0.011501,
     "end_time": "2021-10-06T19:55:54.471155",
     "exception": false,
     "start_time": "2021-10-06T19:55:54.459654",
     "status": "completed"
    },
    "tags": []
   },
   "source": [
    "# Turn diabetes column into a factor"
   ]
  },
  {
   "cell_type": "code",
   "execution_count": 5,
   "id": "39a13907",
   "metadata": {
    "execution": {
     "iopub.execute_input": "2021-10-06T19:55:54.499454Z",
     "iopub.status.busy": "2021-10-06T19:55:54.497618Z",
     "iopub.status.idle": "2021-10-06T19:55:54.522858Z",
     "shell.execute_reply": "2021-10-06T19:55:54.521295Z"
    },
    "papermill": {
     "duration": 0.040619,
     "end_time": "2021-10-06T19:55:54.523012",
     "exception": false,
     "start_time": "2021-10-06T19:55:54.482393",
     "status": "completed"
    },
    "tags": []
   },
   "outputs": [
    {
     "name": "stdout",
     "output_type": "stream",
     "text": [
      "'data.frame':\t768 obs. of  10 variables:\n",
      " $ PAT_ID       : int  1 2 3 4 5 6 7 8 9 10 ...\n",
      " $ PREGNANCIES  : int  6 1 8 1 0 5 3 10 2 8 ...\n",
      " $ GLOCUSE      : int  148 85 183 89 137 116 78 115 197 125 ...\n",
      " $ BP           : int  72 66 64 66 40 74 50 0 70 96 ...\n",
      " $ SKINTHICKNESS: int  35 29 0 23 35 0 32 0 45 0 ...\n",
      " $ INSULIN      : int  0 0 0 94 168 0 88 0 543 0 ...\n",
      " $ BMI          : num  33.6 26.6 23.3 28.1 43.1 25.6 31 35.3 30.5 0 ...\n",
      " $ DPF          : num  0.627 0.351 0.672 0.167 2.288 ...\n",
      " $ AGE          : int  50 31 32 21 33 30 26 29 53 54 ...\n",
      " $ DIABET       : Factor w/ 2 levels \"0\",\"1\": 2 1 2 1 2 1 2 1 2 2 ...\n"
     ]
    }
   ],
   "source": [
    "df$DIABET <- as.factor(df$DIABET)\n",
    "str(df)"
   ]
  },
  {
   "cell_type": "markdown",
   "id": "ad6f72d8",
   "metadata": {
    "papermill": {
     "duration": 0.011461,
     "end_time": "2021-10-06T19:55:54.546022",
     "exception": false,
     "start_time": "2021-10-06T19:55:54.534561",
     "status": "completed"
    },
    "tags": []
   },
   "source": [
    "# Run the model (logistic regression)"
   ]
  },
  {
   "cell_type": "code",
   "execution_count": 6,
   "id": "1e9cbd17",
   "metadata": {
    "execution": {
     "iopub.execute_input": "2021-10-06T19:55:54.574895Z",
     "iopub.status.busy": "2021-10-06T19:55:54.573006Z",
     "iopub.status.idle": "2021-10-06T19:55:54.613002Z",
     "shell.execute_reply": "2021-10-06T19:55:54.611548Z"
    },
    "papermill": {
     "duration": 0.055636,
     "end_time": "2021-10-06T19:55:54.613141",
     "exception": false,
     "start_time": "2021-10-06T19:55:54.557505",
     "status": "completed"
    },
    "tags": []
   },
   "outputs": [
    {
     "data": {
      "text/plain": [
       "\n",
       "Call:\n",
       "glm(formula = DIABET ~ BMI + AGE, family = \"binomial\", data = df)\n",
       "\n",
       "Deviance Residuals: \n",
       "    Min       1Q   Median       3Q      Max  \n",
       "-1.9807  -0.8952  -0.5817   1.1050   2.8471  \n",
       "\n",
       "Coefficients:\n",
       "            Estimate Std. Error z value Pr(>|z|)    \n",
       "(Intercept) -5.40378    0.51530 -10.487  < 2e-16 ***\n",
       "BMI          0.09825    0.01248   7.874 3.45e-15 ***\n",
       "AGE          0.04561    0.00694   6.571 4.98e-11 ***\n",
       "---\n",
       "Signif. codes:  0 ‘***’ 0.001 ‘**’ 0.01 ‘*’ 0.05 ‘.’ 0.1 ‘ ’ 1\n",
       "\n",
       "(Dispersion parameter for binomial family taken to be 1)\n",
       "\n",
       "    Null deviance: 993.48  on 767  degrees of freedom\n",
       "Residual deviance: 875.68  on 765  degrees of freedom\n",
       "AIC: 881.68\n",
       "\n",
       "Number of Fisher Scoring iterations: 4\n"
      ]
     },
     "metadata": {},
     "output_type": "display_data"
    }
   ],
   "source": [
    "logistic <- glm(DIABET ~ BMI+AGE, data=df, family=\"binomial\")\n",
    "summary(logistic)"
   ]
  },
  {
   "cell_type": "markdown",
   "id": "4fc733b4",
   "metadata": {
    "papermill": {
     "duration": 0.012302,
     "end_time": "2021-10-06T19:55:54.637645",
     "exception": false,
     "start_time": "2021-10-06T19:55:54.625343",
     "status": "completed"
    },
    "tags": []
   },
   "source": [
    "# Make a prediction"
   ]
  },
  {
   "cell_type": "code",
   "execution_count": 7,
   "id": "82369b31",
   "metadata": {
    "execution": {
     "iopub.execute_input": "2021-10-06T19:55:54.667178Z",
     "iopub.status.busy": "2021-10-06T19:55:54.665878Z",
     "iopub.status.idle": "2021-10-06T19:55:54.685731Z",
     "shell.execute_reply": "2021-10-06T19:55:54.684309Z"
    },
    "papermill": {
     "duration": 0.03599,
     "end_time": "2021-10-06T19:55:54.685879",
     "exception": false,
     "start_time": "2021-10-06T19:55:54.649889",
     "status": "completed"
    },
    "tags": []
   },
   "outputs": [
    {
     "data": {
      "text/html": [
       "<strong>1:</strong> 0.236341027307146"
      ],
      "text/latex": [
       "\\textbf{1:} 0.236341027307146"
      ],
      "text/markdown": [
       "**1:** 0.236341027307146"
      ],
      "text/plain": [
       "       1 \n",
       "0.236341 "
      ]
     },
     "metadata": {},
     "output_type": "display_data"
    }
   ],
   "source": [
    "xval <- data.frame(BMI=25, AGE = 33)\n",
    "exp(predict(logistic, xval))"
   ]
  },
  {
   "cell_type": "code",
   "execution_count": 8,
   "id": "be0254c7",
   "metadata": {
    "execution": {
     "iopub.execute_input": "2021-10-06T19:55:54.715953Z",
     "iopub.status.busy": "2021-10-06T19:55:54.714682Z",
     "iopub.status.idle": "2021-10-06T19:55:54.738170Z",
     "shell.execute_reply": "2021-10-06T19:55:54.736929Z"
    },
    "papermill": {
     "duration": 0.039776,
     "end_time": "2021-10-06T19:55:54.738308",
     "exception": false,
     "start_time": "2021-10-06T19:55:54.698532",
     "status": "completed"
    },
    "tags": []
   },
   "outputs": [
    {
     "data": {
      "text/plain": [
       "\n",
       "Call:\n",
       "glm(formula = DIABET ~ ., family = \"binomial\", data = df)\n",
       "\n",
       "Deviance Residuals: \n",
       "    Min       1Q   Median       3Q      Max  \n",
       "-2.5440  -0.7262  -0.4138   0.7533   2.9245  \n",
       "\n",
       "Coefficients:\n",
       "                Estimate Std. Error z value Pr(>|z|)    \n",
       "(Intercept)   -8.2660716  0.7346199 -11.252  < 2e-16 ***\n",
       "PAT_ID        -0.0003341  0.0004157  -0.804 0.421499    \n",
       "PREGNANCIES    0.1218187  0.0321613   3.788 0.000152 ***\n",
       "GLOCUSE        0.0351500  0.0037091   9.477  < 2e-16 ***\n",
       "BP            -0.0130738  0.0052432  -2.493 0.012651 *  \n",
       "SKINTHICKNESS  0.0007339  0.0069071   0.106 0.915384    \n",
       "INSULIN       -0.0012075  0.0009052  -1.334 0.182196    \n",
       "BMI            0.0892151  0.0151004   5.908 3.46e-09 ***\n",
       "DPF            0.9334404  0.3004943   3.106 0.001894 ** \n",
       "AGE            0.0149473  0.0093539   1.598 0.110049    \n",
       "---\n",
       "Signif. codes:  0 ‘***’ 0.001 ‘**’ 0.01 ‘*’ 0.05 ‘.’ 0.1 ‘ ’ 1\n",
       "\n",
       "(Dispersion parameter for binomial family taken to be 1)\n",
       "\n",
       "    Null deviance: 993.48  on 767  degrees of freedom\n",
       "Residual deviance: 722.80  on 758  degrees of freedom\n",
       "AIC: 742.8\n",
       "\n",
       "Number of Fisher Scoring iterations: 5\n"
      ]
     },
     "metadata": {},
     "output_type": "display_data"
    }
   ],
   "source": [
    "logistic2 <- glm(DIABET ~ ., data=df, family=\"binomial\")\n",
    "summary(logistic2)"
   ]
  },
  {
   "cell_type": "markdown",
   "id": "96c6c9fd",
   "metadata": {
    "papermill": {
     "duration": 0.013505,
     "end_time": "2021-10-06T19:55:54.764929",
     "exception": false,
     "start_time": "2021-10-06T19:55:54.751424",
     "status": "completed"
    },
    "tags": []
   },
   "source": [
    "# Get accuracy of model"
   ]
  },
  {
   "cell_type": "code",
   "execution_count": 9,
   "id": "8b1bf345",
   "metadata": {
    "execution": {
     "iopub.execute_input": "2021-10-06T19:55:54.797068Z",
     "iopub.status.busy": "2021-10-06T19:55:54.796495Z",
     "iopub.status.idle": "2021-10-06T19:55:54.831494Z",
     "shell.execute_reply": "2021-10-06T19:55:54.830106Z"
    },
    "papermill": {
     "duration": 0.05327,
     "end_time": "2021-10-06T19:55:54.831632",
     "exception": false,
     "start_time": "2021-10-06T19:55:54.778362",
     "status": "completed"
    },
    "tags": []
   },
   "outputs": [
    {
     "data": {
      "text/html": [
       "<table class=\"dataframe\">\n",
       "<caption>A data.frame: 6 × 10</caption>\n",
       "<thead>\n",
       "\t<tr><th></th><th scope=col>PAT_ID</th><th scope=col>PREGNANCIES</th><th scope=col>GLOCUSE</th><th scope=col>BP</th><th scope=col>SKINTHICKNESS</th><th scope=col>INSULIN</th><th scope=col>BMI</th><th scope=col>DPF</th><th scope=col>AGE</th><th scope=col>DIABET</th></tr>\n",
       "\t<tr><th></th><th scope=col>&lt;int&gt;</th><th scope=col>&lt;int&gt;</th><th scope=col>&lt;int&gt;</th><th scope=col>&lt;int&gt;</th><th scope=col>&lt;int&gt;</th><th scope=col>&lt;int&gt;</th><th scope=col>&lt;dbl&gt;</th><th scope=col>&lt;dbl&gt;</th><th scope=col>&lt;int&gt;</th><th scope=col>&lt;fct&gt;</th></tr>\n",
       "</thead>\n",
       "<tbody>\n",
       "\t<tr><th scope=row>133</th><td>133</td><td>3</td><td>170</td><td>64</td><td>37</td><td>225</td><td>34.5</td><td>0.356</td><td>30</td><td>1</td></tr>\n",
       "\t<tr><th scope=row>196</th><td>196</td><td>5</td><td>158</td><td>84</td><td>41</td><td>210</td><td>39.4</td><td>0.395</td><td>29</td><td>1</td></tr>\n",
       "\t<tr><th scope=row>742</th><td>742</td><td>3</td><td>102</td><td>44</td><td>20</td><td> 94</td><td>30.8</td><td>0.400</td><td>26</td><td>0</td></tr>\n",
       "\t<tr><th scope=row>557</th><td>557</td><td>1</td><td> 97</td><td>70</td><td>40</td><td>  0</td><td>38.1</td><td>0.218</td><td>30</td><td>0</td></tr>\n",
       "\t<tr><th scope=row>36</th><td> 36</td><td>4</td><td>103</td><td>60</td><td>33</td><td>192</td><td>24.0</td><td>0.966</td><td>33</td><td>0</td></tr>\n",
       "\t<tr><th scope=row>392</th><td>392</td><td>5</td><td>166</td><td>76</td><td> 0</td><td>  0</td><td>45.7</td><td>0.340</td><td>27</td><td>1</td></tr>\n",
       "</tbody>\n",
       "</table>\n"
      ],
      "text/latex": [
       "A data.frame: 6 × 10\n",
       "\\begin{tabular}{r|llllllllll}\n",
       "  & PAT\\_ID & PREGNANCIES & GLOCUSE & BP & SKINTHICKNESS & INSULIN & BMI & DPF & AGE & DIABET\\\\\n",
       "  & <int> & <int> & <int> & <int> & <int> & <int> & <dbl> & <dbl> & <int> & <fct>\\\\\n",
       "\\hline\n",
       "\t133 & 133 & 3 & 170 & 64 & 37 & 225 & 34.5 & 0.356 & 30 & 1\\\\\n",
       "\t196 & 196 & 5 & 158 & 84 & 41 & 210 & 39.4 & 0.395 & 29 & 1\\\\\n",
       "\t742 & 742 & 3 & 102 & 44 & 20 &  94 & 30.8 & 0.400 & 26 & 0\\\\\n",
       "\t557 & 557 & 1 &  97 & 70 & 40 &   0 & 38.1 & 0.218 & 30 & 0\\\\\n",
       "\t36 &  36 & 4 & 103 & 60 & 33 & 192 & 24.0 & 0.966 & 33 & 0\\\\\n",
       "\t392 & 392 & 5 & 166 & 76 &  0 &   0 & 45.7 & 0.340 & 27 & 1\\\\\n",
       "\\end{tabular}\n"
      ],
      "text/markdown": [
       "\n",
       "A data.frame: 6 × 10\n",
       "\n",
       "| <!--/--> | PAT_ID &lt;int&gt; | PREGNANCIES &lt;int&gt; | GLOCUSE &lt;int&gt; | BP &lt;int&gt; | SKINTHICKNESS &lt;int&gt; | INSULIN &lt;int&gt; | BMI &lt;dbl&gt; | DPF &lt;dbl&gt; | AGE &lt;int&gt; | DIABET &lt;fct&gt; |\n",
       "|---|---|---|---|---|---|---|---|---|---|---|\n",
       "| 133 | 133 | 3 | 170 | 64 | 37 | 225 | 34.5 | 0.356 | 30 | 1 |\n",
       "| 196 | 196 | 5 | 158 | 84 | 41 | 210 | 39.4 | 0.395 | 29 | 1 |\n",
       "| 742 | 742 | 3 | 102 | 44 | 20 |  94 | 30.8 | 0.400 | 26 | 0 |\n",
       "| 557 | 557 | 1 |  97 | 70 | 40 |   0 | 38.1 | 0.218 | 30 | 0 |\n",
       "| 36 |  36 | 4 | 103 | 60 | 33 | 192 | 24.0 | 0.966 | 33 | 0 |\n",
       "| 392 | 392 | 5 | 166 | 76 |  0 |   0 | 45.7 | 0.340 | 27 | 1 |\n",
       "\n"
      ],
      "text/plain": [
       "    PAT_ID PREGNANCIES GLOCUSE BP SKINTHICKNESS INSULIN BMI  DPF   AGE DIABET\n",
       "133 133    3           170     64 37            225     34.5 0.356 30  1     \n",
       "196 196    5           158     84 41            210     39.4 0.395 29  1     \n",
       "742 742    3           102     44 20             94     30.8 0.400 26  0     \n",
       "557 557    1            97     70 40              0     38.1 0.218 30  0     \n",
       "36   36    4           103     60 33            192     24.0 0.966 33  0     \n",
       "392 392    5           166     76  0              0     45.7 0.340 27  1     "
      ]
     },
     "metadata": {},
     "output_type": "display_data"
    }
   ],
   "source": [
    "#75% split\n",
    "bound <- floor((nrow(df)/4)*3)\n",
    "\n",
    "#shuffle\n",
    "df <- df[sample(nrow(df)),]\n",
    "df.train <- df[1:bound,]\n",
    "df.test <- df[(bound+1):nrow(df),]\n",
    "\n",
    "head(df.test)\n"
   ]
  },
  {
   "cell_type": "markdown",
   "id": "04432608",
   "metadata": {
    "papermill": {
     "duration": 0.013348,
     "end_time": "2021-10-06T19:55:54.858534",
     "exception": false,
     "start_time": "2021-10-06T19:55:54.845186",
     "status": "completed"
    },
    "tags": []
   },
   "source": [
    "# Retrain model with training data"
   ]
  },
  {
   "cell_type": "code",
   "execution_count": 10,
   "id": "df938ae3",
   "metadata": {
    "execution": {
     "iopub.execute_input": "2021-10-06T19:55:54.891367Z",
     "iopub.status.busy": "2021-10-06T19:55:54.889450Z",
     "iopub.status.idle": "2021-10-06T19:55:54.907029Z",
     "shell.execute_reply": "2021-10-06T19:55:54.905627Z"
    },
    "papermill": {
     "duration": 0.035329,
     "end_time": "2021-10-06T19:55:54.907168",
     "exception": false,
     "start_time": "2021-10-06T19:55:54.871839",
     "status": "completed"
    },
    "tags": []
   },
   "outputs": [],
   "source": [
    "logistic <- glm(DIABET ~., data=df.train, family = \"binomial\")"
   ]
  },
  {
   "cell_type": "markdown",
   "id": "d2b229c4",
   "metadata": {
    "papermill": {
     "duration": 0.013571,
     "end_time": "2021-10-06T19:55:54.934299",
     "exception": false,
     "start_time": "2021-10-06T19:55:54.920728",
     "status": "completed"
    },
    "tags": []
   },
   "source": [
    "# Test model"
   ]
  },
  {
   "cell_type": "code",
   "execution_count": 11,
   "id": "e5ff7d47",
   "metadata": {
    "execution": {
     "iopub.execute_input": "2021-10-06T19:55:54.967250Z",
     "iopub.status.busy": "2021-10-06T19:55:54.966645Z",
     "iopub.status.idle": "2021-10-06T19:55:54.993001Z",
     "shell.execute_reply": "2021-10-06T19:55:54.991632Z"
    },
    "papermill": {
     "duration": 0.045508,
     "end_time": "2021-10-06T19:55:54.993151",
     "exception": false,
     "start_time": "2021-10-06T19:55:54.947643",
     "status": "completed"
    },
    "tags": []
   },
   "outputs": [
    {
     "data": {
      "text/html": [
       "<style>\n",
       ".dl-inline {width: auto; margin:0; padding: 0}\n",
       ".dl-inline>dt, .dl-inline>dd {float: none; width: auto; display: inline-block}\n",
       ".dl-inline>dt::after {content: \":\\0020\"; padding-right: .5ex}\n",
       ".dl-inline>dt:not(:first-of-type) {padding-left: .5ex}\n",
       "</style><dl class=dl-inline><dt>133</dt><dd>0.709027789305796</dd><dt>196</dt><dd>0.720306412204495</dd><dt>742</dt><dd>0.144090886980226</dd><dt>557</dt><dd>0.141841518619211</dd><dt>36</dt><dd>0.128080019388251</dd><dt>392</dt><dd>0.901760780389457</dd><dt>155</dt><dd>0.975885306976074</dd><dt>41</dt><dd>0.814531616685786</dd><dt>624</dt><dd>0.147270669076742</dd><dt>618</dt><dd>0.0107666429396504</dd><dt>122</dt><dd>0.359386728193722</dd><dt>339</dt><dd>0.792637710881164</dd><dt>14</dt><dd>0.449280961428712</dd><dt>762</dt><dd>0.946603993400433</dd><dt>690</dt><dd>0.585992206318366</dd><dt>249</dt><dd>0.392981036860892</dd><dt>717</dt><dd>0.743821982419254</dd><dt>268</dt><dd>0.658973895691542</dd><dt>671</dt><dd>0.762299065476118</dd><dt>244</dt><dd>0.422167041547733</dd><dt>382</dt><dd>0.0330465141830401</dd><dt>540</dt><dd>0.390314176435865</dd><dt>766</dt><dd>0.143556100425517</dd><dt>477</dt><dd>0.132147333552045</dd><dt>271</dt><dd>0.753713507200258</dd><dt>412</dt><dd>0.15357737345127</dd><dt>678</dt><dd>0.0874780502744656</dd><dt>752</dt><dd>0.247002148118576</dd><dt>191</dt><dd>0.0850195348872005</dd><dt>96</dt><dd>0.524700682930991</dd><dt>448</dt><dd>0.0827582455047234</dd><dt>740</dt><dd>0.168124411364755</dd><dt>94</dt><dd>0.248813417885239</dd><dt>472</dt><dd>0.284570059447436</dd><dt>553</dt><dd>0.165027585971943</dd><dt>276</dt><dd>0.286722313498259</dd><dt>494</dt><dd>0.346028727655733</dd><dt>528</dt><dd>0.0871668245643</dd><dt>697</dt><dd>0.527180782420222</dd><dt>633</dt><dd>0.103745182134717</dd><dt>219</dt><dd>0.156580041052757</dd><dt>92</dt><dd>0.245538796195624</dd><dt>468</dt><dd>0.133117672301839</dd><dt>361</dt><dd>0.815252794167608</dd><dt>112</dt><dd>0.666848076208222</dd><dt>656</dt><dd>0.440680461408691</dd><dt>685</dt><dd>0.0356968461228438</dd><dt>749</dt><dd>0.81284794191047</dd><dt>295</dt><dd>0.353022714770503</dd><dt>19</dt><dd>0.401878844401581</dd><dt>517</dt><dd>0.605222180822719</dd><dt>449</dt><dd>0.128384010207361</dd><dt>78</dt><dd>0.262610325356378</dd><dt>328</dt><dd>0.923499602321832</dd><dt>358</dt><dd>0.951579201894977</dd><dt>419</dt><dd>0.0182554688500102</dd><dt>347</dt><dd>0.372157227236146</dd><dt>616</dt><dd>0.0747836250289651</dd><dt>401</dt><dd>0.120711293494356</dd><dt>360</dt><dd>0.866082611363135</dd><dt>723</dt><dd>0.302563929519751</dd><dt>211</dt><dd>0.0480424869382285</dd><dt>72</dt><dd>0.413069272466643</dd><dt>192</dt><dd>0.519444606490033</dd><dt>267</dt><dd>0.761024391779389</dd><dt>259</dt><dd>0.659318697861843</dd><dt>758</dt><dd>0.226022027163561</dd><dt>628</dt><dd>0.215581602573189</dd><dt>727</dt><dd>0.161888946130271</dd><dt>363</dt><dd>0.232841719317622</dd><dt>335</dt><dd>0.0396518835708415</dd><dt>415</dt><dd>0.348889423691555</dd><dt>182</dt><dd>0.264943727050877</dd><dt>285</dt><dd>0.0870100524455771</dd><dt>627</dt><dd>0.0899361680198752</dd><dt>352</dt><dd>0.339820463230759</dd><dt>657</dt><dd>0.0384468525262512</dd><dt>724</dt><dd>0.309264811228265</dd><dt>48</dt><dd>0.0393881544683484</dd><dt>738</dt><dd>0.0870855210305402</dd><dt>210</dt><dd>0.908412828552795</dd><dt>175</dt><dd>0.0434697994543461</dd><dt>351</dt><dd>0.218569859298938</dd><dt>58</dt><dd>0.345004527897124</dd><dt>570</dt><dd>0.153185442124776</dd><dt>592</dt><dd>0.198315924378014</dd><dt>767</dt><dd>0.210010975991352</dd><dt>676</dt><dd>0.882711432070645</dd><dt>49</dt><dd>0.455635501115096</dd><dt>741</dt><dd>0.735513004664397</dd><dt>409</dt><dd>0.936006414059961</dd><dt>554</dt><dd>0.0567250435552405</dd><dt>441</dt><dd>0.714354656354758</dd><dt>711</dt><dd>0.356356536069089</dd><dt>224</dt><dd>0.578585758068681</dd><dt>533</dt><dd>0.200721936671488</dd><dt>212</dt><dd>0.619555281220716</dd><dt>458</dt><dd>0.0844188039736962</dd><dt>12</dt><dd>0.935855714758488</dd><dt>24</dt><dd>0.373012960615651</dd><dt>231</dt><dd>0.750954796473297</dd><dt>375</dt><dd>0.414399425356588</dd><dt>525</dt><dd>0.268329619935947</dd><dt>736</dt><dd>0.173408387016276</dd><dt>115</dt><dd>0.769314015773262</dd><dt>330</dt><dd>0.174352446331101</dd><dt>413</dt><dd>0.558235841450118</dd><dt>299</dt><dd>0.48985155561216</dd><dt>9</dt><dd>0.647712141771474</dd><dt>117</dt><dd>0.381330832098994</dd><dt>10</dt><dd>0.0271780880365401</dd><dt>55</dt><dd>0.701832916351542</dd><dt>274</dt><dd>0.0379090284789524</dd><dt>397</dt><dd>0.0999532434973674</dd><dt>502</dt><dd>0.111602666744516</dd><dt>50</dt><dd>0.0459727817626631</dd><dt>726</dt><dd>0.313988490496736</dd><dt>245</dt><dd>0.492326629686521</dd><dt>672</dt><dd>0.0656953376732936</dd><dt>558</dt><dd>0.212691788165877</dd><dt>614</dt><dd>0.278944157344166</dd><dt>429</dt><dd>0.307670805306729</dd><dt>610</dt><dd>0.0445634670324837</dd><dt>143</dt><dd>0.194534280240966</dd><dt>457</dt><dd>0.316172053058822</dd><dt>668</dt><dd>0.267096227526742</dd><dt>156</dt><dd>0.919676774048588</dd><dt>179</dt><dd>0.77731337145082</dd><dt>593</dt><dd>0.361351564623963</dd><dt>129</dt><dd>0.161452364292529</dd><dt>602</dt><dd>0.18140120652419</dd><dt>398</dt><dd>0.283579629533298</dd><dt>665</dt><dd>0.355515919751746</dd><dt>40</dt><dd>0.475881423661501</dd><dt>110</dt><dd>0.0944910967295515</dd><dt>728</dt><dd>0.271781723083503</dd><dt>666</dt><dd>0.116269040154305</dd><dt>269</dt><dd>0.053653628515162</dd><dt>292</dt><dd>0.225328232221175</dd><dt>630</dt><dd>0.0549663010138942</dd><dt>288</dt><dd>0.416957072394743</dd><dt>342</dt><dd>0.0540249404210896</dd><dt>333</dt><dd>0.957855368983202</dd><dt>427</dt><dd>0.00867916215927531</dd><dt>606</dt><dd>0.343635726821675</dd><dt>321</dt><dd>0.236587116758997</dd><dt>114</dt><dd>0.0991061931194318</dd><dt>385</dt><dd>0.092649362822335</dd><dt>713</dt><dd>0.802812380155236</dd><dt>546</dt><dd>0.85551026962245</dd><dt>420</dt><dd>0.179503901324601</dd><dt>473</dt><dd>0.27759837773968</dd><dt>710</dt><dd>0.144684055526003</dd><dt>722</dt><dd>0.176850188411404</dd><dt>463</dt><dd>0.179527851705229</dd><dt>90</dt><dd>0.0800442303033937</dd><dt>431</dt><dd>0.102247664901706</dd><dt>310</dt><dd>0.289517497768709</dd><dt>372</dt><dd>0.02297786852601</dd><dt>278</dt><dd>0.069224983305984</dd><dt>107</dt><dd>0.0157639377994715</dd><dt>374</dt><dd>0.169498550688895</dd><dt>37</dt><dd>0.744033831971253</dd><dt>644</dt><dd>0.215125103951022</dd><dt>646</dt><dd>0.429791687498739</dd><dt>456</dt><dd>0.950944968253835</dd><dt>485</dt><dd>0.86893126636967</dd><dt>263</dt><dd>0.168161964280612</dd><dt>362</dt><dd>0.609755724028935</dd><dt>450</dt><dd>0.1222997328935</dd><dt>580</dt><dd>0.916824934846065</dd><dt>706</dt><dd>0.144257409646838</dd><dt>154</dt><dd>0.48715778221682</dd><dt>591</dt><dd>0.823091675694396</dd><dt>73</dt><dd>0.862383241220179</dd><dt>621</dt><dd>0.164675622573302</dd><dt>437</dt><dd>0.795280183024458</dd><dt>100</dt><dd>0.459942741042123</dd><dt>569</dt><dd>0.500017169991039</dd><dt>511</dt><dd>0.207235862389092</dd><dt>489</dt><dd>0.0767325340190133</dd><dt>119</dt><dd>0.135700896236759</dd><dt>495</dt><dd>0.00726983459197172</dd><dt>134</dt><dd>0.292059113938285</dd><dt>297</dt><dd>0.215361375129282</dd><dt>527</dt><dd>0.0212055139956177</dd><dt>410</dt><dd>0.695812998580512</dd><dt>20</dt><dd>0.232877952236609</dd><dt>650</dt><dd>0.0615631394241892</dd><dt>693</dt><dd>0.40958039390178</dd><dt>612</dt><dd>0.736630682679457</dd><dt>221</dt><dd>0.677926180230502</dd></dl>\n"
      ],
      "text/latex": [
       "\\begin{description*}\n",
       "\\item[133] 0.709027789305796\n",
       "\\item[196] 0.720306412204495\n",
       "\\item[742] 0.144090886980226\n",
       "\\item[557] 0.141841518619211\n",
       "\\item[36] 0.128080019388251\n",
       "\\item[392] 0.901760780389457\n",
       "\\item[155] 0.975885306976074\n",
       "\\item[41] 0.814531616685786\n",
       "\\item[624] 0.147270669076742\n",
       "\\item[618] 0.0107666429396504\n",
       "\\item[122] 0.359386728193722\n",
       "\\item[339] 0.792637710881164\n",
       "\\item[14] 0.449280961428712\n",
       "\\item[762] 0.946603993400433\n",
       "\\item[690] 0.585992206318366\n",
       "\\item[249] 0.392981036860892\n",
       "\\item[717] 0.743821982419254\n",
       "\\item[268] 0.658973895691542\n",
       "\\item[671] 0.762299065476118\n",
       "\\item[244] 0.422167041547733\n",
       "\\item[382] 0.0330465141830401\n",
       "\\item[540] 0.390314176435865\n",
       "\\item[766] 0.143556100425517\n",
       "\\item[477] 0.132147333552045\n",
       "\\item[271] 0.753713507200258\n",
       "\\item[412] 0.15357737345127\n",
       "\\item[678] 0.0874780502744656\n",
       "\\item[752] 0.247002148118576\n",
       "\\item[191] 0.0850195348872005\n",
       "\\item[96] 0.524700682930991\n",
       "\\item[448] 0.0827582455047234\n",
       "\\item[740] 0.168124411364755\n",
       "\\item[94] 0.248813417885239\n",
       "\\item[472] 0.284570059447436\n",
       "\\item[553] 0.165027585971943\n",
       "\\item[276] 0.286722313498259\n",
       "\\item[494] 0.346028727655733\n",
       "\\item[528] 0.0871668245643\n",
       "\\item[697] 0.527180782420222\n",
       "\\item[633] 0.103745182134717\n",
       "\\item[219] 0.156580041052757\n",
       "\\item[92] 0.245538796195624\n",
       "\\item[468] 0.133117672301839\n",
       "\\item[361] 0.815252794167608\n",
       "\\item[112] 0.666848076208222\n",
       "\\item[656] 0.440680461408691\n",
       "\\item[685] 0.0356968461228438\n",
       "\\item[749] 0.81284794191047\n",
       "\\item[295] 0.353022714770503\n",
       "\\item[19] 0.401878844401581\n",
       "\\item[517] 0.605222180822719\n",
       "\\item[449] 0.128384010207361\n",
       "\\item[78] 0.262610325356378\n",
       "\\item[328] 0.923499602321832\n",
       "\\item[358] 0.951579201894977\n",
       "\\item[419] 0.0182554688500102\n",
       "\\item[347] 0.372157227236146\n",
       "\\item[616] 0.0747836250289651\n",
       "\\item[401] 0.120711293494356\n",
       "\\item[360] 0.866082611363135\n",
       "\\item[723] 0.302563929519751\n",
       "\\item[211] 0.0480424869382285\n",
       "\\item[72] 0.413069272466643\n",
       "\\item[192] 0.519444606490033\n",
       "\\item[267] 0.761024391779389\n",
       "\\item[259] 0.659318697861843\n",
       "\\item[758] 0.226022027163561\n",
       "\\item[628] 0.215581602573189\n",
       "\\item[727] 0.161888946130271\n",
       "\\item[363] 0.232841719317622\n",
       "\\item[335] 0.0396518835708415\n",
       "\\item[415] 0.348889423691555\n",
       "\\item[182] 0.264943727050877\n",
       "\\item[285] 0.0870100524455771\n",
       "\\item[627] 0.0899361680198752\n",
       "\\item[352] 0.339820463230759\n",
       "\\item[657] 0.0384468525262512\n",
       "\\item[724] 0.309264811228265\n",
       "\\item[48] 0.0393881544683484\n",
       "\\item[738] 0.0870855210305402\n",
       "\\item[210] 0.908412828552795\n",
       "\\item[175] 0.0434697994543461\n",
       "\\item[351] 0.218569859298938\n",
       "\\item[58] 0.345004527897124\n",
       "\\item[570] 0.153185442124776\n",
       "\\item[592] 0.198315924378014\n",
       "\\item[767] 0.210010975991352\n",
       "\\item[676] 0.882711432070645\n",
       "\\item[49] 0.455635501115096\n",
       "\\item[741] 0.735513004664397\n",
       "\\item[409] 0.936006414059961\n",
       "\\item[554] 0.0567250435552405\n",
       "\\item[441] 0.714354656354758\n",
       "\\item[711] 0.356356536069089\n",
       "\\item[224] 0.578585758068681\n",
       "\\item[533] 0.200721936671488\n",
       "\\item[212] 0.619555281220716\n",
       "\\item[458] 0.0844188039736962\n",
       "\\item[12] 0.935855714758488\n",
       "\\item[24] 0.373012960615651\n",
       "\\item[231] 0.750954796473297\n",
       "\\item[375] 0.414399425356588\n",
       "\\item[525] 0.268329619935947\n",
       "\\item[736] 0.173408387016276\n",
       "\\item[115] 0.769314015773262\n",
       "\\item[330] 0.174352446331101\n",
       "\\item[413] 0.558235841450118\n",
       "\\item[299] 0.48985155561216\n",
       "\\item[9] 0.647712141771474\n",
       "\\item[117] 0.381330832098994\n",
       "\\item[10] 0.0271780880365401\n",
       "\\item[55] 0.701832916351542\n",
       "\\item[274] 0.0379090284789524\n",
       "\\item[397] 0.0999532434973674\n",
       "\\item[502] 0.111602666744516\n",
       "\\item[50] 0.0459727817626631\n",
       "\\item[726] 0.313988490496736\n",
       "\\item[245] 0.492326629686521\n",
       "\\item[672] 0.0656953376732936\n",
       "\\item[558] 0.212691788165877\n",
       "\\item[614] 0.278944157344166\n",
       "\\item[429] 0.307670805306729\n",
       "\\item[610] 0.0445634670324837\n",
       "\\item[143] 0.194534280240966\n",
       "\\item[457] 0.316172053058822\n",
       "\\item[668] 0.267096227526742\n",
       "\\item[156] 0.919676774048588\n",
       "\\item[179] 0.77731337145082\n",
       "\\item[593] 0.361351564623963\n",
       "\\item[129] 0.161452364292529\n",
       "\\item[602] 0.18140120652419\n",
       "\\item[398] 0.283579629533298\n",
       "\\item[665] 0.355515919751746\n",
       "\\item[40] 0.475881423661501\n",
       "\\item[110] 0.0944910967295515\n",
       "\\item[728] 0.271781723083503\n",
       "\\item[666] 0.116269040154305\n",
       "\\item[269] 0.053653628515162\n",
       "\\item[292] 0.225328232221175\n",
       "\\item[630] 0.0549663010138942\n",
       "\\item[288] 0.416957072394743\n",
       "\\item[342] 0.0540249404210896\n",
       "\\item[333] 0.957855368983202\n",
       "\\item[427] 0.00867916215927531\n",
       "\\item[606] 0.343635726821675\n",
       "\\item[321] 0.236587116758997\n",
       "\\item[114] 0.0991061931194318\n",
       "\\item[385] 0.092649362822335\n",
       "\\item[713] 0.802812380155236\n",
       "\\item[546] 0.85551026962245\n",
       "\\item[420] 0.179503901324601\n",
       "\\item[473] 0.27759837773968\n",
       "\\item[710] 0.144684055526003\n",
       "\\item[722] 0.176850188411404\n",
       "\\item[463] 0.179527851705229\n",
       "\\item[90] 0.0800442303033937\n",
       "\\item[431] 0.102247664901706\n",
       "\\item[310] 0.289517497768709\n",
       "\\item[372] 0.02297786852601\n",
       "\\item[278] 0.069224983305984\n",
       "\\item[107] 0.0157639377994715\n",
       "\\item[374] 0.169498550688895\n",
       "\\item[37] 0.744033831971253\n",
       "\\item[644] 0.215125103951022\n",
       "\\item[646] 0.429791687498739\n",
       "\\item[456] 0.950944968253835\n",
       "\\item[485] 0.86893126636967\n",
       "\\item[263] 0.168161964280612\n",
       "\\item[362] 0.609755724028935\n",
       "\\item[450] 0.1222997328935\n",
       "\\item[580] 0.916824934846065\n",
       "\\item[706] 0.144257409646838\n",
       "\\item[154] 0.48715778221682\n",
       "\\item[591] 0.823091675694396\n",
       "\\item[73] 0.862383241220179\n",
       "\\item[621] 0.164675622573302\n",
       "\\item[437] 0.795280183024458\n",
       "\\item[100] 0.459942741042123\n",
       "\\item[569] 0.500017169991039\n",
       "\\item[511] 0.207235862389092\n",
       "\\item[489] 0.0767325340190133\n",
       "\\item[119] 0.135700896236759\n",
       "\\item[495] 0.00726983459197172\n",
       "\\item[134] 0.292059113938285\n",
       "\\item[297] 0.215361375129282\n",
       "\\item[527] 0.0212055139956177\n",
       "\\item[410] 0.695812998580512\n",
       "\\item[20] 0.232877952236609\n",
       "\\item[650] 0.0615631394241892\n",
       "\\item[693] 0.40958039390178\n",
       "\\item[612] 0.736630682679457\n",
       "\\item[221] 0.677926180230502\n",
       "\\end{description*}\n"
      ],
      "text/markdown": [
       "133\n",
       ":   0.709027789305796196\n",
       ":   0.720306412204495742\n",
       ":   0.144090886980226557\n",
       ":   0.14184151861921136\n",
       ":   0.128080019388251392\n",
       ":   0.901760780389457155\n",
       ":   0.97588530697607441\n",
       ":   0.814531616685786624\n",
       ":   0.147270669076742618\n",
       ":   0.0107666429396504122\n",
       ":   0.359386728193722339\n",
       ":   0.79263771088116414\n",
       ":   0.449280961428712762\n",
       ":   0.946603993400433690\n",
       ":   0.585992206318366249\n",
       ":   0.392981036860892717\n",
       ":   0.743821982419254268\n",
       ":   0.658973895691542671\n",
       ":   0.762299065476118244\n",
       ":   0.422167041547733382\n",
       ":   0.0330465141830401540\n",
       ":   0.390314176435865766\n",
       ":   0.143556100425517477\n",
       ":   0.132147333552045271\n",
       ":   0.753713507200258412\n",
       ":   0.15357737345127678\n",
       ":   0.0874780502744656752\n",
       ":   0.247002148118576191\n",
       ":   0.085019534887200596\n",
       ":   0.524700682930991448\n",
       ":   0.0827582455047234740\n",
       ":   0.16812441136475594\n",
       ":   0.248813417885239472\n",
       ":   0.284570059447436553\n",
       ":   0.165027585971943276\n",
       ":   0.286722313498259494\n",
       ":   0.346028727655733528\n",
       ":   0.0871668245643697\n",
       ":   0.527180782420222633\n",
       ":   0.103745182134717219\n",
       ":   0.15658004105275792\n",
       ":   0.245538796195624468\n",
       ":   0.133117672301839361\n",
       ":   0.815252794167608112\n",
       ":   0.666848076208222656\n",
       ":   0.440680461408691685\n",
       ":   0.0356968461228438749\n",
       ":   0.81284794191047295\n",
       ":   0.35302271477050319\n",
       ":   0.401878844401581517\n",
       ":   0.605222180822719449\n",
       ":   0.12838401020736178\n",
       ":   0.262610325356378328\n",
       ":   0.923499602321832358\n",
       ":   0.951579201894977419\n",
       ":   0.0182554688500102347\n",
       ":   0.372157227236146616\n",
       ":   0.0747836250289651401\n",
       ":   0.120711293494356360\n",
       ":   0.866082611363135723\n",
       ":   0.302563929519751211\n",
       ":   0.048042486938228572\n",
       ":   0.413069272466643192\n",
       ":   0.519444606490033267\n",
       ":   0.761024391779389259\n",
       ":   0.659318697861843758\n",
       ":   0.226022027163561628\n",
       ":   0.215581602573189727\n",
       ":   0.161888946130271363\n",
       ":   0.232841719317622335\n",
       ":   0.0396518835708415415\n",
       ":   0.348889423691555182\n",
       ":   0.264943727050877285\n",
       ":   0.0870100524455771627\n",
       ":   0.0899361680198752352\n",
       ":   0.339820463230759657\n",
       ":   0.0384468525262512724\n",
       ":   0.30926481122826548\n",
       ":   0.0393881544683484738\n",
       ":   0.0870855210305402210\n",
       ":   0.908412828552795175\n",
       ":   0.0434697994543461351\n",
       ":   0.21856985929893858\n",
       ":   0.345004527897124570\n",
       ":   0.153185442124776592\n",
       ":   0.198315924378014767\n",
       ":   0.210010975991352676\n",
       ":   0.88271143207064549\n",
       ":   0.455635501115096741\n",
       ":   0.735513004664397409\n",
       ":   0.936006414059961554\n",
       ":   0.0567250435552405441\n",
       ":   0.714354656354758711\n",
       ":   0.356356536069089224\n",
       ":   0.578585758068681533\n",
       ":   0.200721936671488212\n",
       ":   0.619555281220716458\n",
       ":   0.084418803973696212\n",
       ":   0.93585571475848824\n",
       ":   0.373012960615651231\n",
       ":   0.750954796473297375\n",
       ":   0.414399425356588525\n",
       ":   0.268329619935947736\n",
       ":   0.173408387016276115\n",
       ":   0.769314015773262330\n",
       ":   0.174352446331101413\n",
       ":   0.558235841450118299\n",
       ":   0.489851555612169\n",
       ":   0.647712141771474117\n",
       ":   0.38133083209899410\n",
       ":   0.027178088036540155\n",
       ":   0.701832916351542274\n",
       ":   0.0379090284789524397\n",
       ":   0.0999532434973674502\n",
       ":   0.11160266674451650\n",
       ":   0.0459727817626631726\n",
       ":   0.313988490496736245\n",
       ":   0.492326629686521672\n",
       ":   0.0656953376732936558\n",
       ":   0.212691788165877614\n",
       ":   0.278944157344166429\n",
       ":   0.307670805306729610\n",
       ":   0.0445634670324837143\n",
       ":   0.194534280240966457\n",
       ":   0.316172053058822668\n",
       ":   0.267096227526742156\n",
       ":   0.919676774048588179\n",
       ":   0.77731337145082593\n",
       ":   0.361351564623963129\n",
       ":   0.161452364292529602\n",
       ":   0.18140120652419398\n",
       ":   0.283579629533298665\n",
       ":   0.35551591975174640\n",
       ":   0.475881423661501110\n",
       ":   0.0944910967295515728\n",
       ":   0.271781723083503666\n",
       ":   0.116269040154305269\n",
       ":   0.053653628515162292\n",
       ":   0.225328232221175630\n",
       ":   0.0549663010138942288\n",
       ":   0.416957072394743342\n",
       ":   0.0540249404210896333\n",
       ":   0.957855368983202427\n",
       ":   0.00867916215927531606\n",
       ":   0.343635726821675321\n",
       ":   0.236587116758997114\n",
       ":   0.0991061931194318385\n",
       ":   0.092649362822335713\n",
       ":   0.802812380155236546\n",
       ":   0.85551026962245420\n",
       ":   0.179503901324601473\n",
       ":   0.27759837773968710\n",
       ":   0.144684055526003722\n",
       ":   0.176850188411404463\n",
       ":   0.17952785170522990\n",
       ":   0.0800442303033937431\n",
       ":   0.102247664901706310\n",
       ":   0.289517497768709372\n",
       ":   0.02297786852601278\n",
       ":   0.069224983305984107\n",
       ":   0.0157639377994715374\n",
       ":   0.16949855068889537\n",
       ":   0.744033831971253644\n",
       ":   0.215125103951022646\n",
       ":   0.429791687498739456\n",
       ":   0.950944968253835485\n",
       ":   0.86893126636967263\n",
       ":   0.168161964280612362\n",
       ":   0.609755724028935450\n",
       ":   0.1222997328935580\n",
       ":   0.916824934846065706\n",
       ":   0.144257409646838154\n",
       ":   0.48715778221682591\n",
       ":   0.82309167569439673\n",
       ":   0.862383241220179621\n",
       ":   0.164675622573302437\n",
       ":   0.795280183024458100\n",
       ":   0.459942741042123569\n",
       ":   0.500017169991039511\n",
       ":   0.207235862389092489\n",
       ":   0.0767325340190133119\n",
       ":   0.135700896236759495\n",
       ":   0.00726983459197172134\n",
       ":   0.292059113938285297\n",
       ":   0.215361375129282527\n",
       ":   0.0212055139956177410\n",
       ":   0.69581299858051220\n",
       ":   0.232877952236609650\n",
       ":   0.0615631394241892693\n",
       ":   0.40958039390178612\n",
       ":   0.736630682679457221\n",
       ":   0.677926180230502\n",
       "\n"
      ],
      "text/plain": [
       "        133         196         742         557          36         392 \n",
       "0.709027789 0.720306412 0.144090887 0.141841519 0.128080019 0.901760780 \n",
       "        155          41         624         618         122         339 \n",
       "0.975885307 0.814531617 0.147270669 0.010766643 0.359386728 0.792637711 \n",
       "         14         762         690         249         717         268 \n",
       "0.449280961 0.946603993 0.585992206 0.392981037 0.743821982 0.658973896 \n",
       "        671         244         382         540         766         477 \n",
       "0.762299065 0.422167042 0.033046514 0.390314176 0.143556100 0.132147334 \n",
       "        271         412         678         752         191          96 \n",
       "0.753713507 0.153577373 0.087478050 0.247002148 0.085019535 0.524700683 \n",
       "        448         740          94         472         553         276 \n",
       "0.082758246 0.168124411 0.248813418 0.284570059 0.165027586 0.286722313 \n",
       "        494         528         697         633         219          92 \n",
       "0.346028728 0.087166825 0.527180782 0.103745182 0.156580041 0.245538796 \n",
       "        468         361         112         656         685         749 \n",
       "0.133117672 0.815252794 0.666848076 0.440680461 0.035696846 0.812847942 \n",
       "        295          19         517         449          78         328 \n",
       "0.353022715 0.401878844 0.605222181 0.128384010 0.262610325 0.923499602 \n",
       "        358         419         347         616         401         360 \n",
       "0.951579202 0.018255469 0.372157227 0.074783625 0.120711293 0.866082611 \n",
       "        723         211          72         192         267         259 \n",
       "0.302563930 0.048042487 0.413069272 0.519444606 0.761024392 0.659318698 \n",
       "        758         628         727         363         335         415 \n",
       "0.226022027 0.215581603 0.161888946 0.232841719 0.039651884 0.348889424 \n",
       "        182         285         627         352         657         724 \n",
       "0.264943727 0.087010052 0.089936168 0.339820463 0.038446853 0.309264811 \n",
       "         48         738         210         175         351          58 \n",
       "0.039388154 0.087085521 0.908412829 0.043469799 0.218569859 0.345004528 \n",
       "        570         592         767         676          49         741 \n",
       "0.153185442 0.198315924 0.210010976 0.882711432 0.455635501 0.735513005 \n",
       "        409         554         441         711         224         533 \n",
       "0.936006414 0.056725044 0.714354656 0.356356536 0.578585758 0.200721937 \n",
       "        212         458          12          24         231         375 \n",
       "0.619555281 0.084418804 0.935855715 0.373012961 0.750954796 0.414399425 \n",
       "        525         736         115         330         413         299 \n",
       "0.268329620 0.173408387 0.769314016 0.174352446 0.558235841 0.489851556 \n",
       "          9         117          10          55         274         397 \n",
       "0.647712142 0.381330832 0.027178088 0.701832916 0.037909028 0.099953243 \n",
       "        502          50         726         245         672         558 \n",
       "0.111602667 0.045972782 0.313988490 0.492326630 0.065695338 0.212691788 \n",
       "        614         429         610         143         457         668 \n",
       "0.278944157 0.307670805 0.044563467 0.194534280 0.316172053 0.267096228 \n",
       "        156         179         593         129         602         398 \n",
       "0.919676774 0.777313371 0.361351565 0.161452364 0.181401207 0.283579630 \n",
       "        665          40         110         728         666         269 \n",
       "0.355515920 0.475881424 0.094491097 0.271781723 0.116269040 0.053653629 \n",
       "        292         630         288         342         333         427 \n",
       "0.225328232 0.054966301 0.416957072 0.054024940 0.957855369 0.008679162 \n",
       "        606         321         114         385         713         546 \n",
       "0.343635727 0.236587117 0.099106193 0.092649363 0.802812380 0.855510270 \n",
       "        420         473         710         722         463          90 \n",
       "0.179503901 0.277598378 0.144684056 0.176850188 0.179527852 0.080044230 \n",
       "        431         310         372         278         107         374 \n",
       "0.102247665 0.289517498 0.022977869 0.069224983 0.015763938 0.169498551 \n",
       "         37         644         646         456         485         263 \n",
       "0.744033832 0.215125104 0.429791687 0.950944968 0.868931266 0.168161964 \n",
       "        362         450         580         706         154         591 \n",
       "0.609755724 0.122299733 0.916824935 0.144257410 0.487157782 0.823091676 \n",
       "         73         621         437         100         569         511 \n",
       "0.862383241 0.164675623 0.795280183 0.459942741 0.500017170 0.207235862 \n",
       "        489         119         495         134         297         527 \n",
       "0.076732534 0.135700896 0.007269835 0.292059114 0.215361375 0.021205514 \n",
       "        410          20         650         693         612         221 \n",
       "0.695812999 0.232877952 0.061563139 0.409580394 0.736630683 0.677926180 "
      ]
     },
     "metadata": {},
     "output_type": "display_data"
    }
   ],
   "source": [
    "logistic.pd <- predict(logistic, df.test, type =\"response\")\n",
    "logistic.pd"
   ]
  },
  {
   "cell_type": "markdown",
   "id": "89dd9cc1",
   "metadata": {
    "papermill": {
     "duration": 0.015089,
     "end_time": "2021-10-06T19:55:55.022898",
     "exception": false,
     "start_time": "2021-10-06T19:55:55.007809",
     "status": "completed"
    },
    "tags": []
   },
   "source": [
    "# Confusion Matrix"
   ]
  },
  {
   "cell_type": "markdown",
   "id": "04950443",
   "metadata": {
    "papermill": {
     "duration": 0.014599,
     "end_time": "2021-10-06T19:55:55.052217",
     "exception": false,
     "start_time": "2021-10-06T19:55:55.037618",
     "status": "completed"
    },
    "tags": []
   },
   "source": [
    "## Method\n",
    "I am doing this because of that"
   ]
  },
  {
   "cell_type": "code",
   "execution_count": 12,
   "id": "9512098e",
   "metadata": {
    "execution": {
     "iopub.execute_input": "2021-10-06T19:55:55.087952Z",
     "iopub.status.busy": "2021-10-06T19:55:55.085965Z",
     "iopub.status.idle": "2021-10-06T19:55:55.103150Z",
     "shell.execute_reply": "2021-10-06T19:55:55.101640Z"
    },
    "papermill": {
     "duration": 0.036461,
     "end_time": "2021-10-06T19:55:55.103285",
     "exception": false,
     "start_time": "2021-10-06T19:55:55.066824",
     "status": "completed"
    },
    "tags": []
   },
   "outputs": [
    {
     "data": {
      "text/plain": [
       "         observed\n",
       "predicted   0   1\n",
       "        0 100  38\n",
       "        1  16  38"
      ]
     },
     "metadata": {},
     "output_type": "display_data"
    }
   ],
   "source": [
    "table(predicted = as.numeric(logistic.pd>0.5), observed = df.test$DIABET)"
   ]
  }
 ],
 "metadata": {
  "kernelspec": {
   "display_name": "R",
   "language": "R",
   "name": "ir"
  },
  "language_info": {
   "codemirror_mode": "r",
   "file_extension": ".r",
   "mimetype": "text/x-r-source",
   "name": "R",
   "pygments_lexer": "r",
   "version": "4.0.5"
  },
  "papermill": {
   "default_parameters": {},
   "duration": 4.086713,
   "end_time": "2021-10-06T19:55:55.229098",
   "environment_variables": {},
   "exception": null,
   "input_path": "__notebook__.ipynb",
   "output_path": "__notebook__.ipynb",
   "parameters": {},
   "start_time": "2021-10-06T19:55:51.142385",
   "version": "2.3.3"
  }
 },
 "nbformat": 4,
 "nbformat_minor": 5
}
